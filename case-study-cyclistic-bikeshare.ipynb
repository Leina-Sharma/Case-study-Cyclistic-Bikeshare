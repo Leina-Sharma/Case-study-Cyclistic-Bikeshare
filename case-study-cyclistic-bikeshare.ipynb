{
 "cells": [
  {
   "cell_type": "markdown",
   "id": "2386a65a",
   "metadata": {
    "_execution_state": "idle",
    "_uuid": "051d70d956493feee0c6d64651c6a088724dca2a",
    "papermill": {
     "duration": 0.012227,
     "end_time": "2024-04-26T18:20:43.977277",
     "exception": false,
     "start_time": "2024-04-26T18:20:43.965050",
     "status": "completed"
    },
    "tags": []
   },
   "source": [
    "# Introduction:\n",
    "\n",
    "Cyclistic bikeshare analysis case study is part of Google Data Analytics Capstone - Complete a Case study project. It involves a bikeshare company's data of its customer's trip details. The data has been made available by Motivate International Inc. under this license.\n",
    "\n",
    "# Objective:\n",
    "\n",
    "The objective of this case study is to understand how casual riders and annual members use Cyclistic bikes differently as a junior data analyst based on few parameters obtained from existing data. From these insights, a new marketing strategy is to be designed to convert casual riders into annual members.\n",
    "In order to answer the key business questions, the steps of the data analysis process: ask, prepare, process, analyze, share, and act is followed. The programming language used for analysis of the dataset is R.\n",
    "\n",
    "# Data Source:\n",
    "\n",
    "This data that has been made publicly available has been scrubbed to omit rider's personal information.\n",
    "Cyclistic’s historical trip dataset is provided by Motivate International Inc. under the license. Motivate International Inc. (“Motivate”) operates the City of Chicago’s (“City”) Divvy bicycle sharing service. \n",
    "\n",
    "\n",
    "# Scenario:\n",
    "\n",
    "Cyclistic is a fictional company launced in the year 2016. It provides bike-share services across a fleet of 5,824 bicycles that are geotracked and locked into a network of 692 stations across Chicago. The bikes can be unlocked from one station and returned to any other station in the system anytime. Cyclistic provides flexibility in its pricing plans: single-ride passes, full-day passes, and annual memberships. Customers who purchase single-ride or full-day passes are referred to as casual riders. Customers who purchase annual memberships are Cyclistic members.\n",
    "\n",
    "Lily Moreno is The director of marketing. Moreno is responsible for the development of campaigns and initiatives to promote the bike-share program. Until now, Cyclistic’s marketing strategy relied on building general awareness and appealing to broad consumer segments. Cyclistic’s finance analysts have concluded that annual members are much more profitable than casual riders.\n",
    "\n",
    "# Business task:\n",
    "\n",
    "understand how casual riders and annual members use Cyclistic bikes differently. design marketing strategies aimed at converting casual riders into annual members. identify ways how digital media could affect marketing tactics.\n",
    "\n",
    "# Key Stakeholders:\n",
    "\n",
    "Lily Moreno: The director of marketing and the manager. Moreno is responsible for the development of campaigns and initiatives to promote the bike-share program. Cyclistic executive team: The team in charge of approving the recommended marketing program.\n"
   ]
  },
  {
   "cell_type": "code",
   "execution_count": 1,
   "id": "f1450ca1",
   "metadata": {
    "execution": {
     "iopub.execute_input": "2024-04-26T18:20:44.006900Z",
     "iopub.status.busy": "2024-04-26T18:20:44.003065Z",
     "iopub.status.idle": "2024-04-26T18:20:45.782501Z",
     "shell.execute_reply": "2024-04-26T18:20:45.780478Z"
    },
    "papermill": {
     "duration": 1.796953,
     "end_time": "2024-04-26T18:20:45.785743",
     "exception": false,
     "start_time": "2024-04-26T18:20:43.988790",
     "status": "completed"
    },
    "tags": []
   },
   "outputs": [
    {
     "name": "stderr",
     "output_type": "stream",
     "text": [
      "── \u001b[1mAttaching core tidyverse packages\u001b[22m ──────────────────────── tidyverse 2.0.0 ──\n",
      "\u001b[32m✔\u001b[39m \u001b[34mdplyr    \u001b[39m 1.1.4     \u001b[32m✔\u001b[39m \u001b[34mreadr    \u001b[39m 2.1.4\n",
      "\u001b[32m✔\u001b[39m \u001b[34mforcats  \u001b[39m 1.0.0     \u001b[32m✔\u001b[39m \u001b[34mstringr  \u001b[39m 1.5.1\n",
      "\u001b[32m✔\u001b[39m \u001b[34mggplot2  \u001b[39m 3.4.4     \u001b[32m✔\u001b[39m \u001b[34mtibble   \u001b[39m 3.2.1\n",
      "\u001b[32m✔\u001b[39m \u001b[34mlubridate\u001b[39m 1.9.3     \u001b[32m✔\u001b[39m \u001b[34mtidyr    \u001b[39m 1.3.0\n",
      "\u001b[32m✔\u001b[39m \u001b[34mpurrr    \u001b[39m 1.0.2     \n",
      "── \u001b[1mConflicts\u001b[22m ────────────────────────────────────────── tidyverse_conflicts() ──\n",
      "\u001b[31m✖\u001b[39m \u001b[34mdplyr\u001b[39m::\u001b[32mfilter()\u001b[39m masks \u001b[34mstats\u001b[39m::filter()\n",
      "\u001b[31m✖\u001b[39m \u001b[34mdplyr\u001b[39m::\u001b[32mlag()\u001b[39m    masks \u001b[34mstats\u001b[39m::lag()\n",
      "\u001b[36mℹ\u001b[39m Use the conflicted package (\u001b[3m\u001b[34m<http://conflicted.r-lib.org/>\u001b[39m\u001b[23m) to force all conflicts to become errors\n",
      "\u001b[1m\u001b[22m\u001b[90m[conflicted]\u001b[39m Will prefer \u001b[1m\u001b[34mdplyr\u001b[39m\u001b[22m::filter over any other package.\n",
      "\u001b[1m\u001b[22m\u001b[90m[conflicted]\u001b[39m Will prefer \u001b[1m\u001b[34mdplyr\u001b[39m\u001b[22m::lag over any other package.\n"
     ]
    }
   ],
   "source": [
    "#Load libraries\n",
    "\n",
    "library(tidyverse)  #helps wrangle data\n",
    "library(conflicted) # Use the conflicted package to manage conflicts\n",
    "\n",
    "\n",
    "# Set dplyr::filter and dplyr::lag as the default choices\n",
    "conflict_prefer(\"filter\", \"dplyr\")\n",
    "conflict_prefer(\"lag\", \"dplyr\")"
   ]
  },
  {
   "cell_type": "markdown",
   "id": "36c72391",
   "metadata": {
    "papermill": {
     "duration": 0.011775,
     "end_time": "2024-04-26T18:20:45.809727",
     "exception": false,
     "start_time": "2024-04-26T18:20:45.797952",
     "status": "completed"
    },
    "tags": []
   },
   "source": [
    "# Step 1: collect data"
   ]
  },
  {
   "cell_type": "code",
   "execution_count": 2,
   "id": "0769599b",
   "metadata": {
    "execution": {
     "iopub.execute_input": "2024-04-26T18:20:45.872369Z",
     "iopub.status.busy": "2024-04-26T18:20:45.836413Z",
     "iopub.status.idle": "2024-04-26T18:20:52.503900Z",
     "shell.execute_reply": "2024-04-26T18:20:52.501559Z"
    },
    "papermill": {
     "duration": 6.684753,
     "end_time": "2024-04-26T18:20:52.506770",
     "exception": false,
     "start_time": "2024-04-26T18:20:45.822017",
     "status": "completed"
    },
    "tags": []
   },
   "outputs": [
    {
     "name": "stderr",
     "output_type": "stream",
     "text": [
      "\u001b[1mRows: \u001b[22m\u001b[34m365069\u001b[39m \u001b[1mColumns: \u001b[22m\u001b[34m12\u001b[39m\n",
      "\u001b[36m──\u001b[39m \u001b[1mColumn specification\u001b[22m \u001b[36m────────────────────────────────────────────────────────\u001b[39m\n",
      "\u001b[1mDelimiter:\u001b[22m \",\"\n",
      "\u001b[31mchr\u001b[39m (6): start_time, end_time, from_station_name, to_station_name, usertype,...\n",
      "\u001b[32mdbl\u001b[39m (5): trip_id, bikeid, from_station_id, to_station_id, birthyear\n",
      "\u001b[32mnum\u001b[39m (1): tripduration\n",
      "\n",
      "\u001b[36mℹ\u001b[39m Use `spec()` to retrieve the full column specification for this data.\n",
      "\u001b[36mℹ\u001b[39m Specify the column types or set `show_col_types = FALSE` to quiet this message.\n",
      "\u001b[1mRows: \u001b[22m\u001b[34m426887\u001b[39m \u001b[1mColumns: \u001b[22m\u001b[34m13\u001b[39m\n",
      "\u001b[36m──\u001b[39m \u001b[1mColumn specification\u001b[22m \u001b[36m────────────────────────────────────────────────────────\u001b[39m\n",
      "\u001b[1mDelimiter:\u001b[22m \",\"\n",
      "\u001b[31mchr\u001b[39m (7): ride_id, rideable_type, started_at, ended_at, start_station_name, e...\n",
      "\u001b[32mdbl\u001b[39m (6): start_station_id, end_station_id, start_lat, start_lng, end_lat, en...\n",
      "\n",
      "\u001b[36mℹ\u001b[39m Use `spec()` to retrieve the full column specification for this data.\n",
      "\u001b[36mℹ\u001b[39m Specify the column types or set `show_col_types = FALSE` to quiet this message.\n"
     ]
    }
   ],
   "source": [
    "#Uploading Divvy datasets (csv files)\n",
    "q1_2019 <- read_csv(\"../input/cyclistic-bikeshare-dataset/Divvy_Trips_2019_Q1.csv\")\n",
    "q1_2020 <- read_csv(\"../input/cyclistic-bikeshare-dataset/Divvy_Trips_2020_Q1.csv\")"
   ]
  },
  {
   "cell_type": "markdown",
   "id": "f2441d63",
   "metadata": {
    "papermill": {
     "duration": 0.012051,
     "end_time": "2024-04-26T18:20:52.530995",
     "exception": false,
     "start_time": "2024-04-26T18:20:52.518944",
     "status": "completed"
    },
    "tags": []
   },
   "source": [
    "# STEP 2: WRANGLE DATA AND COMBINE INTO A SINGLE FILE"
   ]
  },
  {
   "cell_type": "code",
   "execution_count": 3,
   "id": "eb6d44c5",
   "metadata": {
    "execution": {
     "iopub.execute_input": "2024-04-26T18:20:52.560714Z",
     "iopub.status.busy": "2024-04-26T18:20:52.558885Z",
     "iopub.status.idle": "2024-04-26T18:20:52.588908Z",
     "shell.execute_reply": "2024-04-26T18:20:52.586871Z"
    },
    "papermill": {
     "duration": 0.047466,
     "end_time": "2024-04-26T18:20:52.591947",
     "exception": false,
     "start_time": "2024-04-26T18:20:52.544481",
     "status": "completed"
    },
    "tags": []
   },
   "outputs": [
    {
     "data": {
      "text/html": [
       "<style>\n",
       ".list-inline {list-style: none; margin:0; padding: 0}\n",
       ".list-inline>li {display: inline-block}\n",
       ".list-inline>li:not(:last-child)::after {content: \"\\00b7\"; padding: 0 .5ex}\n",
       "</style>\n",
       "<ol class=list-inline><li>'trip_id'</li><li>'start_time'</li><li>'end_time'</li><li>'bikeid'</li><li>'tripduration'</li><li>'from_station_id'</li><li>'from_station_name'</li><li>'to_station_id'</li><li>'to_station_name'</li><li>'usertype'</li><li>'gender'</li><li>'birthyear'</li></ol>\n"
      ],
      "text/latex": [
       "\\begin{enumerate*}\n",
       "\\item 'trip\\_id'\n",
       "\\item 'start\\_time'\n",
       "\\item 'end\\_time'\n",
       "\\item 'bikeid'\n",
       "\\item 'tripduration'\n",
       "\\item 'from\\_station\\_id'\n",
       "\\item 'from\\_station\\_name'\n",
       "\\item 'to\\_station\\_id'\n",
       "\\item 'to\\_station\\_name'\n",
       "\\item 'usertype'\n",
       "\\item 'gender'\n",
       "\\item 'birthyear'\n",
       "\\end{enumerate*}\n"
      ],
      "text/markdown": [
       "1. 'trip_id'\n",
       "2. 'start_time'\n",
       "3. 'end_time'\n",
       "4. 'bikeid'\n",
       "5. 'tripduration'\n",
       "6. 'from_station_id'\n",
       "7. 'from_station_name'\n",
       "8. 'to_station_id'\n",
       "9. 'to_station_name'\n",
       "10. 'usertype'\n",
       "11. 'gender'\n",
       "12. 'birthyear'\n",
       "\n",
       "\n"
      ],
      "text/plain": [
       " [1] \"trip_id\"           \"start_time\"        \"end_time\"         \n",
       " [4] \"bikeid\"            \"tripduration\"      \"from_station_id\"  \n",
       " [7] \"from_station_name\" \"to_station_id\"     \"to_station_name\"  \n",
       "[10] \"usertype\"          \"gender\"            \"birthyear\"        "
      ]
     },
     "metadata": {},
     "output_type": "display_data"
    },
    {
     "data": {
      "text/html": [
       "<style>\n",
       ".list-inline {list-style: none; margin:0; padding: 0}\n",
       ".list-inline>li {display: inline-block}\n",
       ".list-inline>li:not(:last-child)::after {content: \"\\00b7\"; padding: 0 .5ex}\n",
       "</style>\n",
       "<ol class=list-inline><li>'ride_id'</li><li>'rideable_type'</li><li>'started_at'</li><li>'ended_at'</li><li>'start_station_name'</li><li>'start_station_id'</li><li>'end_station_name'</li><li>'end_station_id'</li><li>'start_lat'</li><li>'start_lng'</li><li>'end_lat'</li><li>'end_lng'</li><li>'member_casual'</li></ol>\n"
      ],
      "text/latex": [
       "\\begin{enumerate*}\n",
       "\\item 'ride\\_id'\n",
       "\\item 'rideable\\_type'\n",
       "\\item 'started\\_at'\n",
       "\\item 'ended\\_at'\n",
       "\\item 'start\\_station\\_name'\n",
       "\\item 'start\\_station\\_id'\n",
       "\\item 'end\\_station\\_name'\n",
       "\\item 'end\\_station\\_id'\n",
       "\\item 'start\\_lat'\n",
       "\\item 'start\\_lng'\n",
       "\\item 'end\\_lat'\n",
       "\\item 'end\\_lng'\n",
       "\\item 'member\\_casual'\n",
       "\\end{enumerate*}\n"
      ],
      "text/markdown": [
       "1. 'ride_id'\n",
       "2. 'rideable_type'\n",
       "3. 'started_at'\n",
       "4. 'ended_at'\n",
       "5. 'start_station_name'\n",
       "6. 'start_station_id'\n",
       "7. 'end_station_name'\n",
       "8. 'end_station_id'\n",
       "9. 'start_lat'\n",
       "10. 'start_lng'\n",
       "11. 'end_lat'\n",
       "12. 'end_lng'\n",
       "13. 'member_casual'\n",
       "\n",
       "\n"
      ],
      "text/plain": [
       " [1] \"ride_id\"            \"rideable_type\"      \"started_at\"        \n",
       " [4] \"ended_at\"           \"start_station_name\" \"start_station_id\"  \n",
       " [7] \"end_station_name\"   \"end_station_id\"     \"start_lat\"         \n",
       "[10] \"start_lng\"          \"end_lat\"            \"end_lng\"           \n",
       "[13] \"member_casual\"     "
      ]
     },
     "metadata": {},
     "output_type": "display_data"
    }
   ],
   "source": [
    "#checking column names\n",
    "colnames(q1_2019)\n",
    "colnames(q1_2020)"
   ]
  },
  {
   "cell_type": "code",
   "execution_count": 4,
   "id": "049eaf4e",
   "metadata": {
    "execution": {
     "iopub.execute_input": "2024-04-26T18:20:52.623104Z",
     "iopub.status.busy": "2024-04-26T18:20:52.621261Z",
     "iopub.status.idle": "2024-04-26T18:20:52.986196Z",
     "shell.execute_reply": "2024-04-26T18:20:52.983499Z"
    },
    "papermill": {
     "duration": 0.383984,
     "end_time": "2024-04-26T18:20:52.989163",
     "exception": false,
     "start_time": "2024-04-26T18:20:52.605179",
     "status": "completed"
    },
    "tags": []
   },
   "outputs": [
    {
     "data": {
      "text/html": [
       "<table class=\"dataframe\">\n",
       "<caption>A spec_tbl_df: 365069 × 12</caption>\n",
       "<thead>\n",
       "\t<tr><th scope=col>ride_id</th><th scope=col>started_at</th><th scope=col>ended_at</th><th scope=col>rideable_type</th><th scope=col>tripduration</th><th scope=col>start_station_id</th><th scope=col>start_station_name</th><th scope=col>end_station_id</th><th scope=col>end_station_name</th><th scope=col>member_casual</th><th scope=col>gender</th><th scope=col>birthyear</th></tr>\n",
       "\t<tr><th scope=col>&lt;dbl&gt;</th><th scope=col>&lt;chr&gt;</th><th scope=col>&lt;chr&gt;</th><th scope=col>&lt;dbl&gt;</th><th scope=col>&lt;dbl&gt;</th><th scope=col>&lt;dbl&gt;</th><th scope=col>&lt;chr&gt;</th><th scope=col>&lt;dbl&gt;</th><th scope=col>&lt;chr&gt;</th><th scope=col>&lt;chr&gt;</th><th scope=col>&lt;chr&gt;</th><th scope=col>&lt;dbl&gt;</th></tr>\n",
       "</thead>\n",
       "<tbody>\n",
       "\t<tr><td>21742443</td><td>2019-01-01 0:04:37</td><td>2019-01-01 0:11:07</td><td>2167</td><td> 390</td><td>199</td><td><span style=white-space:pre-wrap>Wabash Ave &amp; Grand Ave             </span></td><td> 84</td><td><span style=white-space:pre-wrap>Milwaukee Ave &amp; Grand Ave     </span></td><td>Subscriber</td><td><span style=white-space:pre-wrap>Male  </span></td><td>1989</td></tr>\n",
       "\t<tr><td>21742444</td><td>2019-01-01 0:08:13</td><td>2019-01-01 0:15:34</td><td>4386</td><td> 441</td><td> 44</td><td><span style=white-space:pre-wrap>State St &amp; Randolph St             </span></td><td>624</td><td>Dearborn St &amp; Van Buren St (*)</td><td>Subscriber</td><td>Female</td><td>1990</td></tr>\n",
       "\t<tr><td>21742445</td><td>2019-01-01 0:13:23</td><td>2019-01-01 0:27:12</td><td>1524</td><td> 829</td><td> 15</td><td><span style=white-space:pre-wrap>Racine Ave &amp; 18th St               </span></td><td>644</td><td>Western Ave &amp; Fillmore St (*) </td><td>Subscriber</td><td>Female</td><td>1994</td></tr>\n",
       "\t<tr><td>21742446</td><td>2019-01-01 0:13:45</td><td>2019-01-01 0:43:28</td><td> 252</td><td>1783</td><td>123</td><td><span style=white-space:pre-wrap>California Ave &amp; Milwaukee Ave     </span></td><td>176</td><td><span style=white-space:pre-wrap>Clark St &amp; Elm St             </span></td><td>Subscriber</td><td><span style=white-space:pre-wrap>Male  </span></td><td>1993</td></tr>\n",
       "\t<tr><td>21742447</td><td>2019-01-01 0:14:52</td><td>2019-01-01 0:20:56</td><td>1170</td><td> 364</td><td>173</td><td>Mies van der Rohe Way &amp; Chicago Ave</td><td> 35</td><td><span style=white-space:pre-wrap>Streeter Dr &amp; Grand Ave       </span></td><td>Subscriber</td><td><span style=white-space:pre-wrap>Male  </span></td><td>1994</td></tr>\n",
       "\t<tr><td>21742448</td><td>2019-01-01 0:15:33</td><td>2019-01-01 0:19:09</td><td>2437</td><td> 216</td><td> 98</td><td><span style=white-space:pre-wrap>LaSalle St &amp; Washington St         </span></td><td> 49</td><td><span style=white-space:pre-wrap>Dearborn St &amp; Monroe St       </span></td><td>Subscriber</td><td>Female</td><td>1983</td></tr>\n",
       "\t<tr><td>21742449</td><td>2019-01-01 0:16:06</td><td>2019-01-01 0:19:03</td><td>2708</td><td> 177</td><td> 98</td><td><span style=white-space:pre-wrap>LaSalle St &amp; Washington St         </span></td><td> 49</td><td><span style=white-space:pre-wrap>Dearborn St &amp; Monroe St       </span></td><td>Subscriber</td><td><span style=white-space:pre-wrap>Male  </span></td><td>1984</td></tr>\n",
       "\t<tr><td>21742450</td><td>2019-01-01 0:18:41</td><td>2019-01-01 0:20:21</td><td>2796</td><td> 100</td><td>211</td><td><span style=white-space:pre-wrap>St. Clair St &amp; Erie St             </span></td><td>142</td><td><span style=white-space:pre-wrap>McClurg Ct &amp; Erie St          </span></td><td>Subscriber</td><td><span style=white-space:pre-wrap>Male  </span></td><td>1990</td></tr>\n",
       "\t<tr><td>21742451</td><td>2019-01-01 0:18:43</td><td>2019-01-01 0:47:30</td><td>6205</td><td>1727</td><td>150</td><td><span style=white-space:pre-wrap>Fort Dearborn Dr &amp; 31st St         </span></td><td>148</td><td><span style=white-space:pre-wrap>State St &amp; 33rd St            </span></td><td>Subscriber</td><td><span style=white-space:pre-wrap>Male  </span></td><td>1995</td></tr>\n",
       "\t<tr><td>21742452</td><td>2019-01-01 0:19:18</td><td>2019-01-01 0:24:54</td><td>3939</td><td> 336</td><td>268</td><td><span style=white-space:pre-wrap>Lake Shore Dr &amp; North Blvd         </span></td><td>141</td><td><span style=white-space:pre-wrap>Clark St &amp; Lincoln Ave        </span></td><td>Subscriber</td><td><span style=white-space:pre-wrap>Male  </span></td><td>1996</td></tr>\n",
       "\t<tr><td>21742453</td><td>2019-01-01 0:20:34</td><td>2019-01-01 0:35:20</td><td>6243</td><td> 886</td><td>299</td><td><span style=white-space:pre-wrap>Halsted St &amp; Roscoe St             </span></td><td>295</td><td><span style=white-space:pre-wrap>Broadway &amp; Argyle St          </span></td><td>Subscriber</td><td><span style=white-space:pre-wrap>Male  </span></td><td>1994</td></tr>\n",
       "\t<tr><td>21742454</td><td>2019-01-01 0:21:52</td><td>2019-01-01 0:32:45</td><td>6300</td><td> 653</td><td>204</td><td><span style=white-space:pre-wrap>Prairie Ave &amp; Garfield Blvd        </span></td><td>420</td><td><span style=white-space:pre-wrap>Ellis Ave &amp; 55th St           </span></td><td>Subscriber</td><td>Female</td><td>1994</td></tr>\n",
       "\t<tr><td>21742455</td><td>2019-01-01 0:23:04</td><td>2019-01-01 0:33:05</td><td>3029</td><td> 601</td><td> 90</td><td><span style=white-space:pre-wrap>Millennium Park                    </span></td><td>255</td><td><span style=white-space:pre-wrap>Indiana Ave &amp; Roosevelt Rd    </span></td><td>Subscriber</td><td><span style=white-space:pre-wrap>Male  </span></td><td>1986</td></tr>\n",
       "\t<tr><td>21742456</td><td>2019-01-01 0:23:43</td><td>2019-01-01 0:33:05</td><td><span style=white-space:pre-wrap>  84</span></td><td> 562</td><td> 90</td><td><span style=white-space:pre-wrap>Millennium Park                    </span></td><td>255</td><td><span style=white-space:pre-wrap>Indiana Ave &amp; Roosevelt Rd    </span></td><td><span style=white-space:pre-wrap>Customer  </span></td><td>Female</td><td>1990</td></tr>\n",
       "\t<tr><td>21742457</td><td>2019-01-01 0:23:54</td><td>2019-01-01 0:39:00</td><td>5019</td><td> 906</td><td>289</td><td><span style=white-space:pre-wrap>Wells St &amp; Concord Ln              </span></td><td>324</td><td><span style=white-space:pre-wrap>Stockton Dr &amp; Wrightwood Ave  </span></td><td>Subscriber</td><td>Female</td><td>1989</td></tr>\n",
       "\t<tr><td>21742458</td><td>2019-01-01 0:24:08</td><td>2019-01-01 0:39:00</td><td>5526</td><td> 892</td><td>289</td><td><span style=white-space:pre-wrap>Wells St &amp; Concord Ln              </span></td><td>324</td><td><span style=white-space:pre-wrap>Stockton Dr &amp; Wrightwood Ave  </span></td><td>Subscriber</td><td>Female</td><td>1989</td></tr>\n",
       "\t<tr><td>21742459</td><td>2019-01-01 0:24:13</td><td>2019-01-01 0:31:00</td><td>3373</td><td> 407</td><td>152</td><td><span style=white-space:pre-wrap>Lincoln Ave &amp; Diversey Pkwy        </span></td><td>166</td><td><span style=white-space:pre-wrap>Ashland Ave &amp; Wrightwood Ave  </span></td><td>Subscriber</td><td><span style=white-space:pre-wrap>Male  </span></td><td>1967</td></tr>\n",
       "\t<tr><td>21742460</td><td>2019-01-01 0:24:27</td><td>2019-01-01 0:47:03</td><td>5777</td><td>1356</td><td>268</td><td><span style=white-space:pre-wrap>Lake Shore Dr &amp; North Blvd         </span></td><td>319</td><td>Greenview Ave &amp; Diversey Pkwy </td><td><span style=white-space:pre-wrap>Customer  </span></td><td>Female</td><td>1990</td></tr>\n",
       "\t<tr><td>21742461</td><td>2019-01-01 0:25:28</td><td>2019-01-01 0:27:10</td><td>3940</td><td> 102</td><td> 35</td><td><span style=white-space:pre-wrap>Streeter Dr &amp; Grand Ave            </span></td><td> 35</td><td><span style=white-space:pre-wrap>Streeter Dr &amp; Grand Ave       </span></td><td>Subscriber</td><td><span style=white-space:pre-wrap>Male  </span></td><td>1985</td></tr>\n",
       "\t<tr><td>21742463</td><td>2019-01-01 0:29:19</td><td>2019-01-01 1:08:12</td><td>3914</td><td>2333</td><td> 35</td><td><span style=white-space:pre-wrap>Streeter Dr &amp; Grand Ave            </span></td><td> 39</td><td><span style=white-space:pre-wrap>Wabash Ave &amp; Adams St         </span></td><td><span style=white-space:pre-wrap>Customer  </span></td><td><span style=white-space:pre-wrap>NA    </span></td><td><span style=white-space:pre-wrap>  NA</span></td></tr>\n",
       "\t<tr><td>21742464</td><td>2019-01-01 0:29:21</td><td>2019-01-01 0:45:21</td><td> 140</td><td> 960</td><td> 47</td><td><span style=white-space:pre-wrap>State St &amp; Kinzie St               </span></td><td>111</td><td><span style=white-space:pre-wrap>Sedgwick St &amp; Huron St        </span></td><td>Subscriber</td><td><span style=white-space:pre-wrap>Male  </span></td><td>1957</td></tr>\n",
       "\t<tr><td>21742465</td><td>2019-01-01 0:29:28</td><td>2019-01-01 1:07:49</td><td>3355</td><td>2301</td><td> 35</td><td><span style=white-space:pre-wrap>Streeter Dr &amp; Grand Ave            </span></td><td> 39</td><td><span style=white-space:pre-wrap>Wabash Ave &amp; Adams St         </span></td><td><span style=white-space:pre-wrap>Customer  </span></td><td><span style=white-space:pre-wrap>NA    </span></td><td><span style=white-space:pre-wrap>  NA</span></td></tr>\n",
       "\t<tr><td>21742466</td><td>2019-01-01 0:29:47</td><td>2019-01-01 0:49:15</td><td>5026</td><td>1168</td><td> 85</td><td><span style=white-space:pre-wrap>Michigan Ave &amp; Oak St              </span></td><td>329</td><td>Lake Shore Dr &amp; Diversey Pkwy </td><td>Subscriber</td><td><span style=white-space:pre-wrap>Male  </span></td><td>1959</td></tr>\n",
       "\t<tr><td>21742467</td><td>2019-01-01 0:30:48</td><td>2019-01-01 0:38:42</td><td>1998</td><td> 474</td><td>289</td><td><span style=white-space:pre-wrap>Wells St &amp; Concord Ln              </span></td><td>313</td><td>Lakeview Ave &amp; Fullerton Pkwy </td><td>Subscriber</td><td><span style=white-space:pre-wrap>Male  </span></td><td>1994</td></tr>\n",
       "\t<tr><td>21742468</td><td>2019-01-01 0:33:09</td><td>2019-01-01 0:50:25</td><td>2630</td><td>1036</td><td> 13</td><td><span style=white-space:pre-wrap>Wilton Ave &amp; Diversey Pkwy         </span></td><td> 61</td><td><span style=white-space:pre-wrap>Wood St &amp; Milwaukee Ave       </span></td><td>Subscriber</td><td><span style=white-space:pre-wrap>Male  </span></td><td>1991</td></tr>\n",
       "\t<tr><td>21742469</td><td>2019-01-01 0:34:35</td><td>2019-01-01 0:38:25</td><td>3722</td><td> 230</td><td>520</td><td><span style=white-space:pre-wrap>Greenview Ave &amp; Jarvis Ave         </span></td><td>523</td><td><span style=white-space:pre-wrap>Eastlake Ter &amp; Rogers Ave     </span></td><td>Subscriber</td><td><span style=white-space:pre-wrap>Male  </span></td><td>1961</td></tr>\n",
       "\t<tr><td>21742471</td><td>2019-01-01 0:38:11</td><td>2019-01-01 0:50:38</td><td>1166</td><td> 747</td><td>256</td><td><span style=white-space:pre-wrap>Broadway &amp; Sheridan Rd             </span></td><td>297</td><td><span style=white-space:pre-wrap>Paulina St &amp; Montrose Ave     </span></td><td>Subscriber</td><td><span style=white-space:pre-wrap>Male  </span></td><td>1968</td></tr>\n",
       "\t<tr><td>21742472</td><td>2019-01-01 0:38:47</td><td>2019-01-01 0:50:38</td><td>1704</td><td> 711</td><td>256</td><td><span style=white-space:pre-wrap>Broadway &amp; Sheridan Rd             </span></td><td>297</td><td><span style=white-space:pre-wrap>Paulina St &amp; Montrose Ave     </span></td><td>Subscriber</td><td><span style=white-space:pre-wrap>Male  </span></td><td>1964</td></tr>\n",
       "\t<tr><td>21742473</td><td>2019-01-01 0:40:16</td><td>2019-01-01 0:49:29</td><td>1476</td><td> 553</td><td>254</td><td><span style=white-space:pre-wrap>Pine Grove Ave &amp; Irving Park Rd    </span></td><td>465</td><td><span style=white-space:pre-wrap>Marine Dr &amp; Ainslie St        </span></td><td>Subscriber</td><td><span style=white-space:pre-wrap>Male  </span></td><td>1990</td></tr>\n",
       "\t<tr><td>21742474</td><td>2019-01-01 0:41:46</td><td>2019-01-01 0:50:27</td><td>4614</td><td> 521</td><td> 66</td><td><span style=white-space:pre-wrap>Clinton St &amp; Lake St               </span></td><td> 52</td><td><span style=white-space:pre-wrap>Michigan Ave &amp; Lake St        </span></td><td>Subscriber</td><td><span style=white-space:pre-wrap>Male  </span></td><td>1994</td></tr>\n",
       "\t<tr><td>⋮</td><td>⋮</td><td>⋮</td><td>⋮</td><td>⋮</td><td>⋮</td><td>⋮</td><td>⋮</td><td>⋮</td><td>⋮</td><td>⋮</td><td>⋮</td></tr>\n",
       "\t<tr><td>22178488</td><td>2019-03-31 22:51:02</td><td>2019-03-31 22:54:00</td><td>4602</td><td>178</td><td>460</td><td><span style=white-space:pre-wrap>Clark St &amp; Bryn Mawr Ave           </span></td><td>461</td><td><span style=white-space:pre-wrap>Broadway &amp; Ridge Ave                </span></td><td>Subscriber</td><td><span style=white-space:pre-wrap>Male  </span></td><td>1986</td></tr>\n",
       "\t<tr><td>22178489</td><td>2019-03-31 22:54:00</td><td>2019-03-31 23:02:49</td><td>4151</td><td>529</td><td> 47</td><td><span style=white-space:pre-wrap>State St &amp; Kinzie St               </span></td><td> 26</td><td><span style=white-space:pre-wrap>McClurg Ct &amp; Illinois St            </span></td><td>Subscriber</td><td><span style=white-space:pre-wrap>Male  </span></td><td>1990</td></tr>\n",
       "\t<tr><td>22178490</td><td>2019-03-31 22:55:28</td><td>2019-03-31 23:02:10</td><td>3833</td><td>402</td><td>108</td><td><span style=white-space:pre-wrap>Halsted St &amp; Polk St               </span></td><td> 19</td><td><span style=white-space:pre-wrap>Loomis St &amp; Taylor St (*)           </span></td><td>Subscriber</td><td><span style=white-space:pre-wrap>Male  </span></td><td>1992</td></tr>\n",
       "\t<tr><td>22178491</td><td>2019-03-31 22:58:00</td><td>2019-03-31 23:06:12</td><td>1374</td><td>492</td><td>108</td><td><span style=white-space:pre-wrap>Halsted St &amp; Polk St               </span></td><td> 41</td><td><span style=white-space:pre-wrap>Federal St &amp; Polk St                </span></td><td>Subscriber</td><td><span style=white-space:pre-wrap>Male  </span></td><td>1992</td></tr>\n",
       "\t<tr><td>22178492</td><td>2019-03-31 22:59:35</td><td>2019-03-31 23:01:38</td><td>3723</td><td>123</td><td> 66</td><td><span style=white-space:pre-wrap>Clinton St &amp; Lake St               </span></td><td> 77</td><td><span style=white-space:pre-wrap>Clinton St &amp; Madison St             </span></td><td>Subscriber</td><td>Female</td><td>1985</td></tr>\n",
       "\t<tr><td>22178493</td><td>2019-03-31 23:00:17</td><td>2019-03-31 23:10:52</td><td>2331</td><td>635</td><td> 51</td><td><span style=white-space:pre-wrap>Clark St &amp; Randolph St             </span></td><td>364</td><td><span style=white-space:pre-wrap>Larrabee St &amp; Oak St                </span></td><td>Subscriber</td><td><span style=white-space:pre-wrap>Male  </span></td><td>1972</td></tr>\n",
       "\t<tr><td>22178494</td><td>2019-03-31 23:00:28</td><td>2019-03-31 23:09:20</td><td>1312</td><td>532</td><td> 98</td><td><span style=white-space:pre-wrap>LaSalle St &amp; Washington St         </span></td><td> 22</td><td><span style=white-space:pre-wrap>May St &amp; Taylor St                  </span></td><td><span style=white-space:pre-wrap>Customer  </span></td><td><span style=white-space:pre-wrap>Male  </span></td><td>1993</td></tr>\n",
       "\t<tr><td>22178495</td><td>2019-03-31 23:00:43</td><td>2019-03-31 23:13:04</td><td>6205</td><td>741</td><td>301</td><td><span style=white-space:pre-wrap>Clark St &amp; Schiller St             </span></td><td>115</td><td><span style=white-space:pre-wrap>Sheffield Ave &amp; Wellington Ave      </span></td><td>Subscriber</td><td><span style=white-space:pre-wrap>Male  </span></td><td>1988</td></tr>\n",
       "\t<tr><td>22178502</td><td>2019-03-31 23:03:01</td><td>2019-03-31 23:15:20</td><td>3360</td><td>739</td><td>295</td><td><span style=white-space:pre-wrap>Broadway &amp; Argyle St               </span></td><td>451</td><td><span style=white-space:pre-wrap>Sheridan Rd &amp; Loyola Ave            </span></td><td>Subscriber</td><td><span style=white-space:pre-wrap>Male  </span></td><td>1992</td></tr>\n",
       "\t<tr><td>22178503</td><td>2019-03-31 23:09:40</td><td>2019-03-31 23:19:30</td><td>6416</td><td>590</td><td>114</td><td><span style=white-space:pre-wrap>Sheffield Ave &amp; Waveland Ave       </span></td><td>330</td><td><span style=white-space:pre-wrap>Lincoln Ave &amp; Addison St            </span></td><td>Subscriber</td><td>Female</td><td>1985</td></tr>\n",
       "\t<tr><td>22178504</td><td>2019-03-31 23:10:19</td><td>2019-03-31 23:21:33</td><td>3767</td><td>674</td><td> 50</td><td><span style=white-space:pre-wrap>Clark St &amp; Ida B Wells Dr          </span></td><td> 50</td><td><span style=white-space:pre-wrap>Clark St &amp; Ida B Wells Dr           </span></td><td>Subscriber</td><td><span style=white-space:pre-wrap>Male  </span></td><td>1957</td></tr>\n",
       "\t<tr><td>22178505</td><td>2019-03-31 23:11:15</td><td>2019-03-31 23:20:27</td><td>1646</td><td>552</td><td>111</td><td><span style=white-space:pre-wrap>Sedgwick St &amp; Huron St             </span></td><td>301</td><td><span style=white-space:pre-wrap>Clark St &amp; Schiller St              </span></td><td>Subscriber</td><td><span style=white-space:pre-wrap>Male  </span></td><td>1994</td></tr>\n",
       "\t<tr><td>22178506</td><td>2019-03-31 23:15:53</td><td>2019-03-31 23:20:27</td><td> 632</td><td>274</td><td> 16</td><td><span style=white-space:pre-wrap>Paulina Ave &amp; North Ave            </span></td><td>158</td><td><span style=white-space:pre-wrap>Milwaukee Ave &amp; Wabansia Ave        </span></td><td>Subscriber</td><td><span style=white-space:pre-wrap>Male  </span></td><td>1991</td></tr>\n",
       "\t<tr><td>22178507</td><td>2019-03-31 23:16:57</td><td>2019-03-31 23:22:42</td><td>1537</td><td>345</td><td>173</td><td>Mies van der Rohe Way &amp; Chicago Ave</td><td>172</td><td><span style=white-space:pre-wrap>Rush St &amp; Cedar St                  </span></td><td>Subscriber</td><td><span style=white-space:pre-wrap>Male  </span></td><td>1980</td></tr>\n",
       "\t<tr><td>22178508</td><td>2019-03-31 23:18:42</td><td>2019-03-31 23:30:40</td><td>1952</td><td>718</td><td>301</td><td><span style=white-space:pre-wrap>Clark St &amp; Schiller St             </span></td><td>210</td><td><span style=white-space:pre-wrap>Ashland Ave &amp; Division St           </span></td><td>Subscriber</td><td><span style=white-space:pre-wrap>Male  </span></td><td>1988</td></tr>\n",
       "\t<tr><td>22178509</td><td>2019-03-31 23:20:36</td><td>2019-03-31 23:28:12</td><td>5331</td><td>456</td><td>115</td><td><span style=white-space:pre-wrap>Sheffield Ave &amp; Wellington Ave     </span></td><td>313</td><td><span style=white-space:pre-wrap>Lakeview Ave &amp; Fullerton Pkwy       </span></td><td>Subscriber</td><td><span style=white-space:pre-wrap>Male  </span></td><td>1987</td></tr>\n",
       "\t<tr><td>22178510</td><td>2019-03-31 23:21:07</td><td>2019-03-31 23:25:12</td><td><span style=white-space:pre-wrap>  67</span></td><td>245</td><td>325</td><td><span style=white-space:pre-wrap>Clark St &amp; Winnemac Ave            </span></td><td>464</td><td><span style=white-space:pre-wrap>Damen Ave &amp; Foster Ave              </span></td><td>Subscriber</td><td><span style=white-space:pre-wrap>Male  </span></td><td>1983</td></tr>\n",
       "\t<tr><td>22178515</td><td>2019-03-31 23:26:00</td><td>2019-03-31 23:37:24</td><td>2965</td><td>684</td><td>403</td><td><span style=white-space:pre-wrap>Wentworth Ave &amp; 33rd St            </span></td><td>263</td><td><span style=white-space:pre-wrap>Rhodes Ave &amp; 32nd St                </span></td><td>Subscriber</td><td><span style=white-space:pre-wrap>Male  </span></td><td>1984</td></tr>\n",
       "\t<tr><td>22178516</td><td>2019-03-31 23:31:30</td><td>2019-03-31 23:35:29</td><td>5747</td><td>239</td><td>309</td><td><span style=white-space:pre-wrap>Leavitt St &amp; Armitage Ave          </span></td><td>219</td><td><span style=white-space:pre-wrap>Damen Ave &amp; Cortland St             </span></td><td>Subscriber</td><td><span style=white-space:pre-wrap>Male  </span></td><td>1970</td></tr>\n",
       "\t<tr><td>22178517</td><td>2019-03-31 23:32:54</td><td>2019-03-31 23:37:50</td><td>2846</td><td>296</td><td>181</td><td><span style=white-space:pre-wrap>LaSalle St &amp; Illinois St           </span></td><td> 24</td><td><span style=white-space:pre-wrap>Fairbanks Ct &amp; Grand Ave            </span></td><td><span style=white-space:pre-wrap>Customer  </span></td><td><span style=white-space:pre-wrap>NA    </span></td><td><span style=white-space:pre-wrap>  NA</span></td></tr>\n",
       "\t<tr><td>22178518</td><td>2019-03-31 23:33:02</td><td>2019-03-31 23:43:15</td><td>2772</td><td>613</td><td>210</td><td><span style=white-space:pre-wrap>Ashland Ave &amp; Division St          </span></td><td>210</td><td><span style=white-space:pre-wrap>Ashland Ave &amp; Division St           </span></td><td>Subscriber</td><td><span style=white-space:pre-wrap>Male  </span></td><td>1972</td></tr>\n",
       "\t<tr><td>22178519</td><td>2019-03-31 23:33:14</td><td>2019-03-31 23:37:40</td><td>4304</td><td>266</td><td>181</td><td><span style=white-space:pre-wrap>LaSalle St &amp; Illinois St           </span></td><td> 24</td><td><span style=white-space:pre-wrap>Fairbanks Ct &amp; Grand Ave            </span></td><td><span style=white-space:pre-wrap>Customer  </span></td><td><span style=white-space:pre-wrap>NA    </span></td><td><span style=white-space:pre-wrap>  NA</span></td></tr>\n",
       "\t<tr><td>22178520</td><td>2019-03-31 23:34:08</td><td>2019-03-31 23:38:07</td><td> 667</td><td>239</td><td>199</td><td><span style=white-space:pre-wrap>Wabash Ave &amp; Grand Ave             </span></td><td> 26</td><td><span style=white-space:pre-wrap>McClurg Ct &amp; Illinois St            </span></td><td>Subscriber</td><td>Female</td><td>1984</td></tr>\n",
       "\t<tr><td>22178521</td><td>2019-03-31 23:39:48</td><td>2019-03-31 23:41:41</td><td>4814</td><td>113</td><td>198</td><td><span style=white-space:pre-wrap>Green St &amp; Madison St              </span></td><td>233</td><td><span style=white-space:pre-wrap>Sangamon St &amp; Washington Blvd (*)   </span></td><td>Subscriber</td><td><span style=white-space:pre-wrap>Male  </span></td><td>1971</td></tr>\n",
       "\t<tr><td>22178522</td><td>2019-03-31 23:47:05</td><td>2019-03-31 23:51:35</td><td>3873</td><td>270</td><td> 69</td><td><span style=white-space:pre-wrap>Damen Ave &amp; Pierce Ave             </span></td><td>183</td><td>Damen Ave &amp; Thomas St (Augusta Blvd)</td><td>Subscriber</td><td><span style=white-space:pre-wrap>Male  </span></td><td>1985</td></tr>\n",
       "\t<tr><td>22178524</td><td>2019-03-31 23:51:32</td><td>2019-04-01 0:04:09 </td><td>1501</td><td>757</td><td> 38</td><td><span style=white-space:pre-wrap>Clark St &amp; Lake St                 </span></td><td> 29</td><td><span style=white-space:pre-wrap>Noble St &amp; Milwaukee Ave            </span></td><td>Subscriber</td><td><span style=white-space:pre-wrap>Male  </span></td><td>1993</td></tr>\n",
       "\t<tr><td>22178525</td><td>2019-03-31 23:52:37</td><td>2019-03-31 23:58:09</td><td>3270</td><td>332</td><td>129</td><td><span style=white-space:pre-wrap>Blue Island Ave &amp; 18th St          </span></td><td>202</td><td><span style=white-space:pre-wrap>Halsted St &amp; 18th St                </span></td><td>Subscriber</td><td><span style=white-space:pre-wrap>Male  </span></td><td>1992</td></tr>\n",
       "\t<tr><td>22178526</td><td>2019-03-31 23:52:38</td><td>2019-04-01 0:06:44 </td><td>3584</td><td>846</td><td>283</td><td><span style=white-space:pre-wrap>LaSalle St &amp; Jackson Blvd          </span></td><td>273</td><td><span style=white-space:pre-wrap>Michigan Ave &amp; 18th St              </span></td><td>Subscriber</td><td><span style=white-space:pre-wrap>Male  </span></td><td>1984</td></tr>\n",
       "\t<tr><td>22178527</td><td>2019-03-31 23:53:08</td><td>2019-03-31 23:56:06</td><td>4384</td><td>178</td><td>321</td><td><span style=white-space:pre-wrap>Wabash Ave &amp; 9th St                </span></td><td> 39</td><td><span style=white-space:pre-wrap>Wabash Ave &amp; Adams St               </span></td><td>Subscriber</td><td><span style=white-space:pre-wrap>Male  </span></td><td>1969</td></tr>\n",
       "\t<tr><td>22178528</td><td>2019-03-31 23:53:48</td><td>2019-04-01 0:01:16 </td><td>5589</td><td>448</td><td>248</td><td><span style=white-space:pre-wrap>Woodlawn Ave &amp; 55th St             </span></td><td>247</td><td><span style=white-space:pre-wrap>Shore Dr &amp; 55th St                  </span></td><td>Subscriber</td><td><span style=white-space:pre-wrap>Male  </span></td><td>1998</td></tr>\n",
       "</tbody>\n",
       "</table>\n"
      ],
      "text/latex": [
       "A spec\\_tbl\\_df: 365069 × 12\n",
       "\\begin{tabular}{llllllllllll}\n",
       " ride\\_id & started\\_at & ended\\_at & rideable\\_type & tripduration & start\\_station\\_id & start\\_station\\_name & end\\_station\\_id & end\\_station\\_name & member\\_casual & gender & birthyear\\\\\n",
       " <dbl> & <chr> & <chr> & <dbl> & <dbl> & <dbl> & <chr> & <dbl> & <chr> & <chr> & <chr> & <dbl>\\\\\n",
       "\\hline\n",
       "\t 21742443 & 2019-01-01 0:04:37 & 2019-01-01 0:11:07 & 2167 &  390 & 199 & Wabash Ave \\& Grand Ave              &  84 & Milwaukee Ave \\& Grand Ave      & Subscriber & Male   & 1989\\\\\n",
       "\t 21742444 & 2019-01-01 0:08:13 & 2019-01-01 0:15:34 & 4386 &  441 &  44 & State St \\& Randolph St              & 624 & Dearborn St \\& Van Buren St (*) & Subscriber & Female & 1990\\\\\n",
       "\t 21742445 & 2019-01-01 0:13:23 & 2019-01-01 0:27:12 & 1524 &  829 &  15 & Racine Ave \\& 18th St                & 644 & Western Ave \\& Fillmore St (*)  & Subscriber & Female & 1994\\\\\n",
       "\t 21742446 & 2019-01-01 0:13:45 & 2019-01-01 0:43:28 &  252 & 1783 & 123 & California Ave \\& Milwaukee Ave      & 176 & Clark St \\& Elm St              & Subscriber & Male   & 1993\\\\\n",
       "\t 21742447 & 2019-01-01 0:14:52 & 2019-01-01 0:20:56 & 1170 &  364 & 173 & Mies van der Rohe Way \\& Chicago Ave &  35 & Streeter Dr \\& Grand Ave        & Subscriber & Male   & 1994\\\\\n",
       "\t 21742448 & 2019-01-01 0:15:33 & 2019-01-01 0:19:09 & 2437 &  216 &  98 & LaSalle St \\& Washington St          &  49 & Dearborn St \\& Monroe St        & Subscriber & Female & 1983\\\\\n",
       "\t 21742449 & 2019-01-01 0:16:06 & 2019-01-01 0:19:03 & 2708 &  177 &  98 & LaSalle St \\& Washington St          &  49 & Dearborn St \\& Monroe St        & Subscriber & Male   & 1984\\\\\n",
       "\t 21742450 & 2019-01-01 0:18:41 & 2019-01-01 0:20:21 & 2796 &  100 & 211 & St. Clair St \\& Erie St              & 142 & McClurg Ct \\& Erie St           & Subscriber & Male   & 1990\\\\\n",
       "\t 21742451 & 2019-01-01 0:18:43 & 2019-01-01 0:47:30 & 6205 & 1727 & 150 & Fort Dearborn Dr \\& 31st St          & 148 & State St \\& 33rd St             & Subscriber & Male   & 1995\\\\\n",
       "\t 21742452 & 2019-01-01 0:19:18 & 2019-01-01 0:24:54 & 3939 &  336 & 268 & Lake Shore Dr \\& North Blvd          & 141 & Clark St \\& Lincoln Ave         & Subscriber & Male   & 1996\\\\\n",
       "\t 21742453 & 2019-01-01 0:20:34 & 2019-01-01 0:35:20 & 6243 &  886 & 299 & Halsted St \\& Roscoe St              & 295 & Broadway \\& Argyle St           & Subscriber & Male   & 1994\\\\\n",
       "\t 21742454 & 2019-01-01 0:21:52 & 2019-01-01 0:32:45 & 6300 &  653 & 204 & Prairie Ave \\& Garfield Blvd         & 420 & Ellis Ave \\& 55th St            & Subscriber & Female & 1994\\\\\n",
       "\t 21742455 & 2019-01-01 0:23:04 & 2019-01-01 0:33:05 & 3029 &  601 &  90 & Millennium Park                     & 255 & Indiana Ave \\& Roosevelt Rd     & Subscriber & Male   & 1986\\\\\n",
       "\t 21742456 & 2019-01-01 0:23:43 & 2019-01-01 0:33:05 &   84 &  562 &  90 & Millennium Park                     & 255 & Indiana Ave \\& Roosevelt Rd     & Customer   & Female & 1990\\\\\n",
       "\t 21742457 & 2019-01-01 0:23:54 & 2019-01-01 0:39:00 & 5019 &  906 & 289 & Wells St \\& Concord Ln               & 324 & Stockton Dr \\& Wrightwood Ave   & Subscriber & Female & 1989\\\\\n",
       "\t 21742458 & 2019-01-01 0:24:08 & 2019-01-01 0:39:00 & 5526 &  892 & 289 & Wells St \\& Concord Ln               & 324 & Stockton Dr \\& Wrightwood Ave   & Subscriber & Female & 1989\\\\\n",
       "\t 21742459 & 2019-01-01 0:24:13 & 2019-01-01 0:31:00 & 3373 &  407 & 152 & Lincoln Ave \\& Diversey Pkwy         & 166 & Ashland Ave \\& Wrightwood Ave   & Subscriber & Male   & 1967\\\\\n",
       "\t 21742460 & 2019-01-01 0:24:27 & 2019-01-01 0:47:03 & 5777 & 1356 & 268 & Lake Shore Dr \\& North Blvd          & 319 & Greenview Ave \\& Diversey Pkwy  & Customer   & Female & 1990\\\\\n",
       "\t 21742461 & 2019-01-01 0:25:28 & 2019-01-01 0:27:10 & 3940 &  102 &  35 & Streeter Dr \\& Grand Ave             &  35 & Streeter Dr \\& Grand Ave        & Subscriber & Male   & 1985\\\\\n",
       "\t 21742463 & 2019-01-01 0:29:19 & 2019-01-01 1:08:12 & 3914 & 2333 &  35 & Streeter Dr \\& Grand Ave             &  39 & Wabash Ave \\& Adams St          & Customer   & NA     &   NA\\\\\n",
       "\t 21742464 & 2019-01-01 0:29:21 & 2019-01-01 0:45:21 &  140 &  960 &  47 & State St \\& Kinzie St                & 111 & Sedgwick St \\& Huron St         & Subscriber & Male   & 1957\\\\\n",
       "\t 21742465 & 2019-01-01 0:29:28 & 2019-01-01 1:07:49 & 3355 & 2301 &  35 & Streeter Dr \\& Grand Ave             &  39 & Wabash Ave \\& Adams St          & Customer   & NA     &   NA\\\\\n",
       "\t 21742466 & 2019-01-01 0:29:47 & 2019-01-01 0:49:15 & 5026 & 1168 &  85 & Michigan Ave \\& Oak St               & 329 & Lake Shore Dr \\& Diversey Pkwy  & Subscriber & Male   & 1959\\\\\n",
       "\t 21742467 & 2019-01-01 0:30:48 & 2019-01-01 0:38:42 & 1998 &  474 & 289 & Wells St \\& Concord Ln               & 313 & Lakeview Ave \\& Fullerton Pkwy  & Subscriber & Male   & 1994\\\\\n",
       "\t 21742468 & 2019-01-01 0:33:09 & 2019-01-01 0:50:25 & 2630 & 1036 &  13 & Wilton Ave \\& Diversey Pkwy          &  61 & Wood St \\& Milwaukee Ave        & Subscriber & Male   & 1991\\\\\n",
       "\t 21742469 & 2019-01-01 0:34:35 & 2019-01-01 0:38:25 & 3722 &  230 & 520 & Greenview Ave \\& Jarvis Ave          & 523 & Eastlake Ter \\& Rogers Ave      & Subscriber & Male   & 1961\\\\\n",
       "\t 21742471 & 2019-01-01 0:38:11 & 2019-01-01 0:50:38 & 1166 &  747 & 256 & Broadway \\& Sheridan Rd              & 297 & Paulina St \\& Montrose Ave      & Subscriber & Male   & 1968\\\\\n",
       "\t 21742472 & 2019-01-01 0:38:47 & 2019-01-01 0:50:38 & 1704 &  711 & 256 & Broadway \\& Sheridan Rd              & 297 & Paulina St \\& Montrose Ave      & Subscriber & Male   & 1964\\\\\n",
       "\t 21742473 & 2019-01-01 0:40:16 & 2019-01-01 0:49:29 & 1476 &  553 & 254 & Pine Grove Ave \\& Irving Park Rd     & 465 & Marine Dr \\& Ainslie St         & Subscriber & Male   & 1990\\\\\n",
       "\t 21742474 & 2019-01-01 0:41:46 & 2019-01-01 0:50:27 & 4614 &  521 &  66 & Clinton St \\& Lake St                &  52 & Michigan Ave \\& Lake St         & Subscriber & Male   & 1994\\\\\n",
       "\t ⋮ & ⋮ & ⋮ & ⋮ & ⋮ & ⋮ & ⋮ & ⋮ & ⋮ & ⋮ & ⋮ & ⋮\\\\\n",
       "\t 22178488 & 2019-03-31 22:51:02 & 2019-03-31 22:54:00 & 4602 & 178 & 460 & Clark St \\& Bryn Mawr Ave            & 461 & Broadway \\& Ridge Ave                 & Subscriber & Male   & 1986\\\\\n",
       "\t 22178489 & 2019-03-31 22:54:00 & 2019-03-31 23:02:49 & 4151 & 529 &  47 & State St \\& Kinzie St                &  26 & McClurg Ct \\& Illinois St             & Subscriber & Male   & 1990\\\\\n",
       "\t 22178490 & 2019-03-31 22:55:28 & 2019-03-31 23:02:10 & 3833 & 402 & 108 & Halsted St \\& Polk St                &  19 & Loomis St \\& Taylor St (*)            & Subscriber & Male   & 1992\\\\\n",
       "\t 22178491 & 2019-03-31 22:58:00 & 2019-03-31 23:06:12 & 1374 & 492 & 108 & Halsted St \\& Polk St                &  41 & Federal St \\& Polk St                 & Subscriber & Male   & 1992\\\\\n",
       "\t 22178492 & 2019-03-31 22:59:35 & 2019-03-31 23:01:38 & 3723 & 123 &  66 & Clinton St \\& Lake St                &  77 & Clinton St \\& Madison St              & Subscriber & Female & 1985\\\\\n",
       "\t 22178493 & 2019-03-31 23:00:17 & 2019-03-31 23:10:52 & 2331 & 635 &  51 & Clark St \\& Randolph St              & 364 & Larrabee St \\& Oak St                 & Subscriber & Male   & 1972\\\\\n",
       "\t 22178494 & 2019-03-31 23:00:28 & 2019-03-31 23:09:20 & 1312 & 532 &  98 & LaSalle St \\& Washington St          &  22 & May St \\& Taylor St                   & Customer   & Male   & 1993\\\\\n",
       "\t 22178495 & 2019-03-31 23:00:43 & 2019-03-31 23:13:04 & 6205 & 741 & 301 & Clark St \\& Schiller St              & 115 & Sheffield Ave \\& Wellington Ave       & Subscriber & Male   & 1988\\\\\n",
       "\t 22178502 & 2019-03-31 23:03:01 & 2019-03-31 23:15:20 & 3360 & 739 & 295 & Broadway \\& Argyle St                & 451 & Sheridan Rd \\& Loyola Ave             & Subscriber & Male   & 1992\\\\\n",
       "\t 22178503 & 2019-03-31 23:09:40 & 2019-03-31 23:19:30 & 6416 & 590 & 114 & Sheffield Ave \\& Waveland Ave        & 330 & Lincoln Ave \\& Addison St             & Subscriber & Female & 1985\\\\\n",
       "\t 22178504 & 2019-03-31 23:10:19 & 2019-03-31 23:21:33 & 3767 & 674 &  50 & Clark St \\& Ida B Wells Dr           &  50 & Clark St \\& Ida B Wells Dr            & Subscriber & Male   & 1957\\\\\n",
       "\t 22178505 & 2019-03-31 23:11:15 & 2019-03-31 23:20:27 & 1646 & 552 & 111 & Sedgwick St \\& Huron St              & 301 & Clark St \\& Schiller St               & Subscriber & Male   & 1994\\\\\n",
       "\t 22178506 & 2019-03-31 23:15:53 & 2019-03-31 23:20:27 &  632 & 274 &  16 & Paulina Ave \\& North Ave             & 158 & Milwaukee Ave \\& Wabansia Ave         & Subscriber & Male   & 1991\\\\\n",
       "\t 22178507 & 2019-03-31 23:16:57 & 2019-03-31 23:22:42 & 1537 & 345 & 173 & Mies van der Rohe Way \\& Chicago Ave & 172 & Rush St \\& Cedar St                   & Subscriber & Male   & 1980\\\\\n",
       "\t 22178508 & 2019-03-31 23:18:42 & 2019-03-31 23:30:40 & 1952 & 718 & 301 & Clark St \\& Schiller St              & 210 & Ashland Ave \\& Division St            & Subscriber & Male   & 1988\\\\\n",
       "\t 22178509 & 2019-03-31 23:20:36 & 2019-03-31 23:28:12 & 5331 & 456 & 115 & Sheffield Ave \\& Wellington Ave      & 313 & Lakeview Ave \\& Fullerton Pkwy        & Subscriber & Male   & 1987\\\\\n",
       "\t 22178510 & 2019-03-31 23:21:07 & 2019-03-31 23:25:12 &   67 & 245 & 325 & Clark St \\& Winnemac Ave             & 464 & Damen Ave \\& Foster Ave               & Subscriber & Male   & 1983\\\\\n",
       "\t 22178515 & 2019-03-31 23:26:00 & 2019-03-31 23:37:24 & 2965 & 684 & 403 & Wentworth Ave \\& 33rd St             & 263 & Rhodes Ave \\& 32nd St                 & Subscriber & Male   & 1984\\\\\n",
       "\t 22178516 & 2019-03-31 23:31:30 & 2019-03-31 23:35:29 & 5747 & 239 & 309 & Leavitt St \\& Armitage Ave           & 219 & Damen Ave \\& Cortland St              & Subscriber & Male   & 1970\\\\\n",
       "\t 22178517 & 2019-03-31 23:32:54 & 2019-03-31 23:37:50 & 2846 & 296 & 181 & LaSalle St \\& Illinois St            &  24 & Fairbanks Ct \\& Grand Ave             & Customer   & NA     &   NA\\\\\n",
       "\t 22178518 & 2019-03-31 23:33:02 & 2019-03-31 23:43:15 & 2772 & 613 & 210 & Ashland Ave \\& Division St           & 210 & Ashland Ave \\& Division St            & Subscriber & Male   & 1972\\\\\n",
       "\t 22178519 & 2019-03-31 23:33:14 & 2019-03-31 23:37:40 & 4304 & 266 & 181 & LaSalle St \\& Illinois St            &  24 & Fairbanks Ct \\& Grand Ave             & Customer   & NA     &   NA\\\\\n",
       "\t 22178520 & 2019-03-31 23:34:08 & 2019-03-31 23:38:07 &  667 & 239 & 199 & Wabash Ave \\& Grand Ave              &  26 & McClurg Ct \\& Illinois St             & Subscriber & Female & 1984\\\\\n",
       "\t 22178521 & 2019-03-31 23:39:48 & 2019-03-31 23:41:41 & 4814 & 113 & 198 & Green St \\& Madison St               & 233 & Sangamon St \\& Washington Blvd (*)    & Subscriber & Male   & 1971\\\\\n",
       "\t 22178522 & 2019-03-31 23:47:05 & 2019-03-31 23:51:35 & 3873 & 270 &  69 & Damen Ave \\& Pierce Ave              & 183 & Damen Ave \\& Thomas St (Augusta Blvd) & Subscriber & Male   & 1985\\\\\n",
       "\t 22178524 & 2019-03-31 23:51:32 & 2019-04-01 0:04:09  & 1501 & 757 &  38 & Clark St \\& Lake St                  &  29 & Noble St \\& Milwaukee Ave             & Subscriber & Male   & 1993\\\\\n",
       "\t 22178525 & 2019-03-31 23:52:37 & 2019-03-31 23:58:09 & 3270 & 332 & 129 & Blue Island Ave \\& 18th St           & 202 & Halsted St \\& 18th St                 & Subscriber & Male   & 1992\\\\\n",
       "\t 22178526 & 2019-03-31 23:52:38 & 2019-04-01 0:06:44  & 3584 & 846 & 283 & LaSalle St \\& Jackson Blvd           & 273 & Michigan Ave \\& 18th St               & Subscriber & Male   & 1984\\\\\n",
       "\t 22178527 & 2019-03-31 23:53:08 & 2019-03-31 23:56:06 & 4384 & 178 & 321 & Wabash Ave \\& 9th St                 &  39 & Wabash Ave \\& Adams St                & Subscriber & Male   & 1969\\\\\n",
       "\t 22178528 & 2019-03-31 23:53:48 & 2019-04-01 0:01:16  & 5589 & 448 & 248 & Woodlawn Ave \\& 55th St              & 247 & Shore Dr \\& 55th St                   & Subscriber & Male   & 1998\\\\\n",
       "\\end{tabular}\n"
      ],
      "text/markdown": [
       "\n",
       "A spec_tbl_df: 365069 × 12\n",
       "\n",
       "| ride_id &lt;dbl&gt; | started_at &lt;chr&gt; | ended_at &lt;chr&gt; | rideable_type &lt;dbl&gt; | tripduration &lt;dbl&gt; | start_station_id &lt;dbl&gt; | start_station_name &lt;chr&gt; | end_station_id &lt;dbl&gt; | end_station_name &lt;chr&gt; | member_casual &lt;chr&gt; | gender &lt;chr&gt; | birthyear &lt;dbl&gt; |\n",
       "|---|---|---|---|---|---|---|---|---|---|---|---|\n",
       "| 21742443 | 2019-01-01 0:04:37 | 2019-01-01 0:11:07 | 2167 |  390 | 199 | Wabash Ave &amp; Grand Ave              |  84 | Milwaukee Ave &amp; Grand Ave      | Subscriber | Male   | 1989 |\n",
       "| 21742444 | 2019-01-01 0:08:13 | 2019-01-01 0:15:34 | 4386 |  441 |  44 | State St &amp; Randolph St              | 624 | Dearborn St &amp; Van Buren St (*) | Subscriber | Female | 1990 |\n",
       "| 21742445 | 2019-01-01 0:13:23 | 2019-01-01 0:27:12 | 1524 |  829 |  15 | Racine Ave &amp; 18th St                | 644 | Western Ave &amp; Fillmore St (*)  | Subscriber | Female | 1994 |\n",
       "| 21742446 | 2019-01-01 0:13:45 | 2019-01-01 0:43:28 |  252 | 1783 | 123 | California Ave &amp; Milwaukee Ave      | 176 | Clark St &amp; Elm St              | Subscriber | Male   | 1993 |\n",
       "| 21742447 | 2019-01-01 0:14:52 | 2019-01-01 0:20:56 | 1170 |  364 | 173 | Mies van der Rohe Way &amp; Chicago Ave |  35 | Streeter Dr &amp; Grand Ave        | Subscriber | Male   | 1994 |\n",
       "| 21742448 | 2019-01-01 0:15:33 | 2019-01-01 0:19:09 | 2437 |  216 |  98 | LaSalle St &amp; Washington St          |  49 | Dearborn St &amp; Monroe St        | Subscriber | Female | 1983 |\n",
       "| 21742449 | 2019-01-01 0:16:06 | 2019-01-01 0:19:03 | 2708 |  177 |  98 | LaSalle St &amp; Washington St          |  49 | Dearborn St &amp; Monroe St        | Subscriber | Male   | 1984 |\n",
       "| 21742450 | 2019-01-01 0:18:41 | 2019-01-01 0:20:21 | 2796 |  100 | 211 | St. Clair St &amp; Erie St              | 142 | McClurg Ct &amp; Erie St           | Subscriber | Male   | 1990 |\n",
       "| 21742451 | 2019-01-01 0:18:43 | 2019-01-01 0:47:30 | 6205 | 1727 | 150 | Fort Dearborn Dr &amp; 31st St          | 148 | State St &amp; 33rd St             | Subscriber | Male   | 1995 |\n",
       "| 21742452 | 2019-01-01 0:19:18 | 2019-01-01 0:24:54 | 3939 |  336 | 268 | Lake Shore Dr &amp; North Blvd          | 141 | Clark St &amp; Lincoln Ave         | Subscriber | Male   | 1996 |\n",
       "| 21742453 | 2019-01-01 0:20:34 | 2019-01-01 0:35:20 | 6243 |  886 | 299 | Halsted St &amp; Roscoe St              | 295 | Broadway &amp; Argyle St           | Subscriber | Male   | 1994 |\n",
       "| 21742454 | 2019-01-01 0:21:52 | 2019-01-01 0:32:45 | 6300 |  653 | 204 | Prairie Ave &amp; Garfield Blvd         | 420 | Ellis Ave &amp; 55th St            | Subscriber | Female | 1994 |\n",
       "| 21742455 | 2019-01-01 0:23:04 | 2019-01-01 0:33:05 | 3029 |  601 |  90 | Millennium Park                     | 255 | Indiana Ave &amp; Roosevelt Rd     | Subscriber | Male   | 1986 |\n",
       "| 21742456 | 2019-01-01 0:23:43 | 2019-01-01 0:33:05 |   84 |  562 |  90 | Millennium Park                     | 255 | Indiana Ave &amp; Roosevelt Rd     | Customer   | Female | 1990 |\n",
       "| 21742457 | 2019-01-01 0:23:54 | 2019-01-01 0:39:00 | 5019 |  906 | 289 | Wells St &amp; Concord Ln               | 324 | Stockton Dr &amp; Wrightwood Ave   | Subscriber | Female | 1989 |\n",
       "| 21742458 | 2019-01-01 0:24:08 | 2019-01-01 0:39:00 | 5526 |  892 | 289 | Wells St &amp; Concord Ln               | 324 | Stockton Dr &amp; Wrightwood Ave   | Subscriber | Female | 1989 |\n",
       "| 21742459 | 2019-01-01 0:24:13 | 2019-01-01 0:31:00 | 3373 |  407 | 152 | Lincoln Ave &amp; Diversey Pkwy         | 166 | Ashland Ave &amp; Wrightwood Ave   | Subscriber | Male   | 1967 |\n",
       "| 21742460 | 2019-01-01 0:24:27 | 2019-01-01 0:47:03 | 5777 | 1356 | 268 | Lake Shore Dr &amp; North Blvd          | 319 | Greenview Ave &amp; Diversey Pkwy  | Customer   | Female | 1990 |\n",
       "| 21742461 | 2019-01-01 0:25:28 | 2019-01-01 0:27:10 | 3940 |  102 |  35 | Streeter Dr &amp; Grand Ave             |  35 | Streeter Dr &amp; Grand Ave        | Subscriber | Male   | 1985 |\n",
       "| 21742463 | 2019-01-01 0:29:19 | 2019-01-01 1:08:12 | 3914 | 2333 |  35 | Streeter Dr &amp; Grand Ave             |  39 | Wabash Ave &amp; Adams St          | Customer   | NA     |   NA |\n",
       "| 21742464 | 2019-01-01 0:29:21 | 2019-01-01 0:45:21 |  140 |  960 |  47 | State St &amp; Kinzie St                | 111 | Sedgwick St &amp; Huron St         | Subscriber | Male   | 1957 |\n",
       "| 21742465 | 2019-01-01 0:29:28 | 2019-01-01 1:07:49 | 3355 | 2301 |  35 | Streeter Dr &amp; Grand Ave             |  39 | Wabash Ave &amp; Adams St          | Customer   | NA     |   NA |\n",
       "| 21742466 | 2019-01-01 0:29:47 | 2019-01-01 0:49:15 | 5026 | 1168 |  85 | Michigan Ave &amp; Oak St               | 329 | Lake Shore Dr &amp; Diversey Pkwy  | Subscriber | Male   | 1959 |\n",
       "| 21742467 | 2019-01-01 0:30:48 | 2019-01-01 0:38:42 | 1998 |  474 | 289 | Wells St &amp; Concord Ln               | 313 | Lakeview Ave &amp; Fullerton Pkwy  | Subscriber | Male   | 1994 |\n",
       "| 21742468 | 2019-01-01 0:33:09 | 2019-01-01 0:50:25 | 2630 | 1036 |  13 | Wilton Ave &amp; Diversey Pkwy          |  61 | Wood St &amp; Milwaukee Ave        | Subscriber | Male   | 1991 |\n",
       "| 21742469 | 2019-01-01 0:34:35 | 2019-01-01 0:38:25 | 3722 |  230 | 520 | Greenview Ave &amp; Jarvis Ave          | 523 | Eastlake Ter &amp; Rogers Ave      | Subscriber | Male   | 1961 |\n",
       "| 21742471 | 2019-01-01 0:38:11 | 2019-01-01 0:50:38 | 1166 |  747 | 256 | Broadway &amp; Sheridan Rd              | 297 | Paulina St &amp; Montrose Ave      | Subscriber | Male   | 1968 |\n",
       "| 21742472 | 2019-01-01 0:38:47 | 2019-01-01 0:50:38 | 1704 |  711 | 256 | Broadway &amp; Sheridan Rd              | 297 | Paulina St &amp; Montrose Ave      | Subscriber | Male   | 1964 |\n",
       "| 21742473 | 2019-01-01 0:40:16 | 2019-01-01 0:49:29 | 1476 |  553 | 254 | Pine Grove Ave &amp; Irving Park Rd     | 465 | Marine Dr &amp; Ainslie St         | Subscriber | Male   | 1990 |\n",
       "| 21742474 | 2019-01-01 0:41:46 | 2019-01-01 0:50:27 | 4614 |  521 |  66 | Clinton St &amp; Lake St                |  52 | Michigan Ave &amp; Lake St         | Subscriber | Male   | 1994 |\n",
       "| ⋮ | ⋮ | ⋮ | ⋮ | ⋮ | ⋮ | ⋮ | ⋮ | ⋮ | ⋮ | ⋮ | ⋮ |\n",
       "| 22178488 | 2019-03-31 22:51:02 | 2019-03-31 22:54:00 | 4602 | 178 | 460 | Clark St &amp; Bryn Mawr Ave            | 461 | Broadway &amp; Ridge Ave                 | Subscriber | Male   | 1986 |\n",
       "| 22178489 | 2019-03-31 22:54:00 | 2019-03-31 23:02:49 | 4151 | 529 |  47 | State St &amp; Kinzie St                |  26 | McClurg Ct &amp; Illinois St             | Subscriber | Male   | 1990 |\n",
       "| 22178490 | 2019-03-31 22:55:28 | 2019-03-31 23:02:10 | 3833 | 402 | 108 | Halsted St &amp; Polk St                |  19 | Loomis St &amp; Taylor St (*)            | Subscriber | Male   | 1992 |\n",
       "| 22178491 | 2019-03-31 22:58:00 | 2019-03-31 23:06:12 | 1374 | 492 | 108 | Halsted St &amp; Polk St                |  41 | Federal St &amp; Polk St                 | Subscriber | Male   | 1992 |\n",
       "| 22178492 | 2019-03-31 22:59:35 | 2019-03-31 23:01:38 | 3723 | 123 |  66 | Clinton St &amp; Lake St                |  77 | Clinton St &amp; Madison St              | Subscriber | Female | 1985 |\n",
       "| 22178493 | 2019-03-31 23:00:17 | 2019-03-31 23:10:52 | 2331 | 635 |  51 | Clark St &amp; Randolph St              | 364 | Larrabee St &amp; Oak St                 | Subscriber | Male   | 1972 |\n",
       "| 22178494 | 2019-03-31 23:00:28 | 2019-03-31 23:09:20 | 1312 | 532 |  98 | LaSalle St &amp; Washington St          |  22 | May St &amp; Taylor St                   | Customer   | Male   | 1993 |\n",
       "| 22178495 | 2019-03-31 23:00:43 | 2019-03-31 23:13:04 | 6205 | 741 | 301 | Clark St &amp; Schiller St              | 115 | Sheffield Ave &amp; Wellington Ave       | Subscriber | Male   | 1988 |\n",
       "| 22178502 | 2019-03-31 23:03:01 | 2019-03-31 23:15:20 | 3360 | 739 | 295 | Broadway &amp; Argyle St                | 451 | Sheridan Rd &amp; Loyola Ave             | Subscriber | Male   | 1992 |\n",
       "| 22178503 | 2019-03-31 23:09:40 | 2019-03-31 23:19:30 | 6416 | 590 | 114 | Sheffield Ave &amp; Waveland Ave        | 330 | Lincoln Ave &amp; Addison St             | Subscriber | Female | 1985 |\n",
       "| 22178504 | 2019-03-31 23:10:19 | 2019-03-31 23:21:33 | 3767 | 674 |  50 | Clark St &amp; Ida B Wells Dr           |  50 | Clark St &amp; Ida B Wells Dr            | Subscriber | Male   | 1957 |\n",
       "| 22178505 | 2019-03-31 23:11:15 | 2019-03-31 23:20:27 | 1646 | 552 | 111 | Sedgwick St &amp; Huron St              | 301 | Clark St &amp; Schiller St               | Subscriber | Male   | 1994 |\n",
       "| 22178506 | 2019-03-31 23:15:53 | 2019-03-31 23:20:27 |  632 | 274 |  16 | Paulina Ave &amp; North Ave             | 158 | Milwaukee Ave &amp; Wabansia Ave         | Subscriber | Male   | 1991 |\n",
       "| 22178507 | 2019-03-31 23:16:57 | 2019-03-31 23:22:42 | 1537 | 345 | 173 | Mies van der Rohe Way &amp; Chicago Ave | 172 | Rush St &amp; Cedar St                   | Subscriber | Male   | 1980 |\n",
       "| 22178508 | 2019-03-31 23:18:42 | 2019-03-31 23:30:40 | 1952 | 718 | 301 | Clark St &amp; Schiller St              | 210 | Ashland Ave &amp; Division St            | Subscriber | Male   | 1988 |\n",
       "| 22178509 | 2019-03-31 23:20:36 | 2019-03-31 23:28:12 | 5331 | 456 | 115 | Sheffield Ave &amp; Wellington Ave      | 313 | Lakeview Ave &amp; Fullerton Pkwy        | Subscriber | Male   | 1987 |\n",
       "| 22178510 | 2019-03-31 23:21:07 | 2019-03-31 23:25:12 |   67 | 245 | 325 | Clark St &amp; Winnemac Ave             | 464 | Damen Ave &amp; Foster Ave               | Subscriber | Male   | 1983 |\n",
       "| 22178515 | 2019-03-31 23:26:00 | 2019-03-31 23:37:24 | 2965 | 684 | 403 | Wentworth Ave &amp; 33rd St             | 263 | Rhodes Ave &amp; 32nd St                 | Subscriber | Male   | 1984 |\n",
       "| 22178516 | 2019-03-31 23:31:30 | 2019-03-31 23:35:29 | 5747 | 239 | 309 | Leavitt St &amp; Armitage Ave           | 219 | Damen Ave &amp; Cortland St              | Subscriber | Male   | 1970 |\n",
       "| 22178517 | 2019-03-31 23:32:54 | 2019-03-31 23:37:50 | 2846 | 296 | 181 | LaSalle St &amp; Illinois St            |  24 | Fairbanks Ct &amp; Grand Ave             | Customer   | NA     |   NA |\n",
       "| 22178518 | 2019-03-31 23:33:02 | 2019-03-31 23:43:15 | 2772 | 613 | 210 | Ashland Ave &amp; Division St           | 210 | Ashland Ave &amp; Division St            | Subscriber | Male   | 1972 |\n",
       "| 22178519 | 2019-03-31 23:33:14 | 2019-03-31 23:37:40 | 4304 | 266 | 181 | LaSalle St &amp; Illinois St            |  24 | Fairbanks Ct &amp; Grand Ave             | Customer   | NA     |   NA |\n",
       "| 22178520 | 2019-03-31 23:34:08 | 2019-03-31 23:38:07 |  667 | 239 | 199 | Wabash Ave &amp; Grand Ave              |  26 | McClurg Ct &amp; Illinois St             | Subscriber | Female | 1984 |\n",
       "| 22178521 | 2019-03-31 23:39:48 | 2019-03-31 23:41:41 | 4814 | 113 | 198 | Green St &amp; Madison St               | 233 | Sangamon St &amp; Washington Blvd (*)    | Subscriber | Male   | 1971 |\n",
       "| 22178522 | 2019-03-31 23:47:05 | 2019-03-31 23:51:35 | 3873 | 270 |  69 | Damen Ave &amp; Pierce Ave              | 183 | Damen Ave &amp; Thomas St (Augusta Blvd) | Subscriber | Male   | 1985 |\n",
       "| 22178524 | 2019-03-31 23:51:32 | 2019-04-01 0:04:09  | 1501 | 757 |  38 | Clark St &amp; Lake St                  |  29 | Noble St &amp; Milwaukee Ave             | Subscriber | Male   | 1993 |\n",
       "| 22178525 | 2019-03-31 23:52:37 | 2019-03-31 23:58:09 | 3270 | 332 | 129 | Blue Island Ave &amp; 18th St           | 202 | Halsted St &amp; 18th St                 | Subscriber | Male   | 1992 |\n",
       "| 22178526 | 2019-03-31 23:52:38 | 2019-04-01 0:06:44  | 3584 | 846 | 283 | LaSalle St &amp; Jackson Blvd           | 273 | Michigan Ave &amp; 18th St               | Subscriber | Male   | 1984 |\n",
       "| 22178527 | 2019-03-31 23:53:08 | 2019-03-31 23:56:06 | 4384 | 178 | 321 | Wabash Ave &amp; 9th St                 |  39 | Wabash Ave &amp; Adams St                | Subscriber | Male   | 1969 |\n",
       "| 22178528 | 2019-03-31 23:53:48 | 2019-04-01 0:01:16  | 5589 | 448 | 248 | Woodlawn Ave &amp; 55th St              | 247 | Shore Dr &amp; 55th St                   | Subscriber | Male   | 1998 |\n",
       "\n"
      ],
      "text/plain": [
       "       ride_id  started_at          ended_at            rideable_type\n",
       "1      21742443 2019-01-01 0:04:37  2019-01-01 0:11:07  2167         \n",
       "2      21742444 2019-01-01 0:08:13  2019-01-01 0:15:34  4386         \n",
       "3      21742445 2019-01-01 0:13:23  2019-01-01 0:27:12  1524         \n",
       "4      21742446 2019-01-01 0:13:45  2019-01-01 0:43:28   252         \n",
       "5      21742447 2019-01-01 0:14:52  2019-01-01 0:20:56  1170         \n",
       "6      21742448 2019-01-01 0:15:33  2019-01-01 0:19:09  2437         \n",
       "7      21742449 2019-01-01 0:16:06  2019-01-01 0:19:03  2708         \n",
       "8      21742450 2019-01-01 0:18:41  2019-01-01 0:20:21  2796         \n",
       "9      21742451 2019-01-01 0:18:43  2019-01-01 0:47:30  6205         \n",
       "10     21742452 2019-01-01 0:19:18  2019-01-01 0:24:54  3939         \n",
       "11     21742453 2019-01-01 0:20:34  2019-01-01 0:35:20  6243         \n",
       "12     21742454 2019-01-01 0:21:52  2019-01-01 0:32:45  6300         \n",
       "13     21742455 2019-01-01 0:23:04  2019-01-01 0:33:05  3029         \n",
       "14     21742456 2019-01-01 0:23:43  2019-01-01 0:33:05    84         \n",
       "15     21742457 2019-01-01 0:23:54  2019-01-01 0:39:00  5019         \n",
       "16     21742458 2019-01-01 0:24:08  2019-01-01 0:39:00  5526         \n",
       "17     21742459 2019-01-01 0:24:13  2019-01-01 0:31:00  3373         \n",
       "18     21742460 2019-01-01 0:24:27  2019-01-01 0:47:03  5777         \n",
       "19     21742461 2019-01-01 0:25:28  2019-01-01 0:27:10  3940         \n",
       "20     21742463 2019-01-01 0:29:19  2019-01-01 1:08:12  3914         \n",
       "21     21742464 2019-01-01 0:29:21  2019-01-01 0:45:21   140         \n",
       "22     21742465 2019-01-01 0:29:28  2019-01-01 1:07:49  3355         \n",
       "23     21742466 2019-01-01 0:29:47  2019-01-01 0:49:15  5026         \n",
       "24     21742467 2019-01-01 0:30:48  2019-01-01 0:38:42  1998         \n",
       "25     21742468 2019-01-01 0:33:09  2019-01-01 0:50:25  2630         \n",
       "26     21742469 2019-01-01 0:34:35  2019-01-01 0:38:25  3722         \n",
       "27     21742471 2019-01-01 0:38:11  2019-01-01 0:50:38  1166         \n",
       "28     21742472 2019-01-01 0:38:47  2019-01-01 0:50:38  1704         \n",
       "29     21742473 2019-01-01 0:40:16  2019-01-01 0:49:29  1476         \n",
       "30     21742474 2019-01-01 0:41:46  2019-01-01 0:50:27  4614         \n",
       "⋮      ⋮        ⋮                   ⋮                   ⋮            \n",
       "365040 22178488 2019-03-31 22:51:02 2019-03-31 22:54:00 4602         \n",
       "365041 22178489 2019-03-31 22:54:00 2019-03-31 23:02:49 4151         \n",
       "365042 22178490 2019-03-31 22:55:28 2019-03-31 23:02:10 3833         \n",
       "365043 22178491 2019-03-31 22:58:00 2019-03-31 23:06:12 1374         \n",
       "365044 22178492 2019-03-31 22:59:35 2019-03-31 23:01:38 3723         \n",
       "365045 22178493 2019-03-31 23:00:17 2019-03-31 23:10:52 2331         \n",
       "365046 22178494 2019-03-31 23:00:28 2019-03-31 23:09:20 1312         \n",
       "365047 22178495 2019-03-31 23:00:43 2019-03-31 23:13:04 6205         \n",
       "365048 22178502 2019-03-31 23:03:01 2019-03-31 23:15:20 3360         \n",
       "365049 22178503 2019-03-31 23:09:40 2019-03-31 23:19:30 6416         \n",
       "365050 22178504 2019-03-31 23:10:19 2019-03-31 23:21:33 3767         \n",
       "365051 22178505 2019-03-31 23:11:15 2019-03-31 23:20:27 1646         \n",
       "365052 22178506 2019-03-31 23:15:53 2019-03-31 23:20:27  632         \n",
       "365053 22178507 2019-03-31 23:16:57 2019-03-31 23:22:42 1537         \n",
       "365054 22178508 2019-03-31 23:18:42 2019-03-31 23:30:40 1952         \n",
       "365055 22178509 2019-03-31 23:20:36 2019-03-31 23:28:12 5331         \n",
       "365056 22178510 2019-03-31 23:21:07 2019-03-31 23:25:12   67         \n",
       "365057 22178515 2019-03-31 23:26:00 2019-03-31 23:37:24 2965         \n",
       "365058 22178516 2019-03-31 23:31:30 2019-03-31 23:35:29 5747         \n",
       "365059 22178517 2019-03-31 23:32:54 2019-03-31 23:37:50 2846         \n",
       "365060 22178518 2019-03-31 23:33:02 2019-03-31 23:43:15 2772         \n",
       "365061 22178519 2019-03-31 23:33:14 2019-03-31 23:37:40 4304         \n",
       "365062 22178520 2019-03-31 23:34:08 2019-03-31 23:38:07  667         \n",
       "365063 22178521 2019-03-31 23:39:48 2019-03-31 23:41:41 4814         \n",
       "365064 22178522 2019-03-31 23:47:05 2019-03-31 23:51:35 3873         \n",
       "365065 22178524 2019-03-31 23:51:32 2019-04-01 0:04:09  1501         \n",
       "365066 22178525 2019-03-31 23:52:37 2019-03-31 23:58:09 3270         \n",
       "365067 22178526 2019-03-31 23:52:38 2019-04-01 0:06:44  3584         \n",
       "365068 22178527 2019-03-31 23:53:08 2019-03-31 23:56:06 4384         \n",
       "365069 22178528 2019-03-31 23:53:48 2019-04-01 0:01:16  5589         \n",
       "       tripduration start_station_id start_station_name                 \n",
       "1       390         199              Wabash Ave & Grand Ave             \n",
       "2       441          44              State St & Randolph St             \n",
       "3       829          15              Racine Ave & 18th St               \n",
       "4      1783         123              California Ave & Milwaukee Ave     \n",
       "5       364         173              Mies van der Rohe Way & Chicago Ave\n",
       "6       216          98              LaSalle St & Washington St         \n",
       "7       177          98              LaSalle St & Washington St         \n",
       "8       100         211              St. Clair St & Erie St             \n",
       "9      1727         150              Fort Dearborn Dr & 31st St         \n",
       "10      336         268              Lake Shore Dr & North Blvd         \n",
       "11      886         299              Halsted St & Roscoe St             \n",
       "12      653         204              Prairie Ave & Garfield Blvd        \n",
       "13      601          90              Millennium Park                    \n",
       "14      562          90              Millennium Park                    \n",
       "15      906         289              Wells St & Concord Ln              \n",
       "16      892         289              Wells St & Concord Ln              \n",
       "17      407         152              Lincoln Ave & Diversey Pkwy        \n",
       "18     1356         268              Lake Shore Dr & North Blvd         \n",
       "19      102          35              Streeter Dr & Grand Ave            \n",
       "20     2333          35              Streeter Dr & Grand Ave            \n",
       "21      960          47              State St & Kinzie St               \n",
       "22     2301          35              Streeter Dr & Grand Ave            \n",
       "23     1168          85              Michigan Ave & Oak St              \n",
       "24      474         289              Wells St & Concord Ln              \n",
       "25     1036          13              Wilton Ave & Diversey Pkwy         \n",
       "26      230         520              Greenview Ave & Jarvis Ave         \n",
       "27      747         256              Broadway & Sheridan Rd             \n",
       "28      711         256              Broadway & Sheridan Rd             \n",
       "29      553         254              Pine Grove Ave & Irving Park Rd    \n",
       "30      521          66              Clinton St & Lake St               \n",
       "⋮      ⋮            ⋮                ⋮                                  \n",
       "365040 178          460              Clark St & Bryn Mawr Ave           \n",
       "365041 529           47              State St & Kinzie St               \n",
       "365042 402          108              Halsted St & Polk St               \n",
       "365043 492          108              Halsted St & Polk St               \n",
       "365044 123           66              Clinton St & Lake St               \n",
       "365045 635           51              Clark St & Randolph St             \n",
       "365046 532           98              LaSalle St & Washington St         \n",
       "365047 741          301              Clark St & Schiller St             \n",
       "365048 739          295              Broadway & Argyle St               \n",
       "365049 590          114              Sheffield Ave & Waveland Ave       \n",
       "365050 674           50              Clark St & Ida B Wells Dr          \n",
       "365051 552          111              Sedgwick St & Huron St             \n",
       "365052 274           16              Paulina Ave & North Ave            \n",
       "365053 345          173              Mies van der Rohe Way & Chicago Ave\n",
       "365054 718          301              Clark St & Schiller St             \n",
       "365055 456          115              Sheffield Ave & Wellington Ave     \n",
       "365056 245          325              Clark St & Winnemac Ave            \n",
       "365057 684          403              Wentworth Ave & 33rd St            \n",
       "365058 239          309              Leavitt St & Armitage Ave          \n",
       "365059 296          181              LaSalle St & Illinois St           \n",
       "365060 613          210              Ashland Ave & Division St          \n",
       "365061 266          181              LaSalle St & Illinois St           \n",
       "365062 239          199              Wabash Ave & Grand Ave             \n",
       "365063 113          198              Green St & Madison St              \n",
       "365064 270           69              Damen Ave & Pierce Ave             \n",
       "365065 757           38              Clark St & Lake St                 \n",
       "365066 332          129              Blue Island Ave & 18th St          \n",
       "365067 846          283              LaSalle St & Jackson Blvd          \n",
       "365068 178          321              Wabash Ave & 9th St                \n",
       "365069 448          248              Woodlawn Ave & 55th St             \n",
       "       end_station_id end_station_name                     member_casual gender\n",
       "1       84            Milwaukee Ave & Grand Ave            Subscriber    Male  \n",
       "2      624            Dearborn St & Van Buren St (*)       Subscriber    Female\n",
       "3      644            Western Ave & Fillmore St (*)        Subscriber    Female\n",
       "4      176            Clark St & Elm St                    Subscriber    Male  \n",
       "5       35            Streeter Dr & Grand Ave              Subscriber    Male  \n",
       "6       49            Dearborn St & Monroe St              Subscriber    Female\n",
       "7       49            Dearborn St & Monroe St              Subscriber    Male  \n",
       "8      142            McClurg Ct & Erie St                 Subscriber    Male  \n",
       "9      148            State St & 33rd St                   Subscriber    Male  \n",
       "10     141            Clark St & Lincoln Ave               Subscriber    Male  \n",
       "11     295            Broadway & Argyle St                 Subscriber    Male  \n",
       "12     420            Ellis Ave & 55th St                  Subscriber    Female\n",
       "13     255            Indiana Ave & Roosevelt Rd           Subscriber    Male  \n",
       "14     255            Indiana Ave & Roosevelt Rd           Customer      Female\n",
       "15     324            Stockton Dr & Wrightwood Ave         Subscriber    Female\n",
       "16     324            Stockton Dr & Wrightwood Ave         Subscriber    Female\n",
       "17     166            Ashland Ave & Wrightwood Ave         Subscriber    Male  \n",
       "18     319            Greenview Ave & Diversey Pkwy        Customer      Female\n",
       "19      35            Streeter Dr & Grand Ave              Subscriber    Male  \n",
       "20      39            Wabash Ave & Adams St                Customer      NA    \n",
       "21     111            Sedgwick St & Huron St               Subscriber    Male  \n",
       "22      39            Wabash Ave & Adams St                Customer      NA    \n",
       "23     329            Lake Shore Dr & Diversey Pkwy        Subscriber    Male  \n",
       "24     313            Lakeview Ave & Fullerton Pkwy        Subscriber    Male  \n",
       "25      61            Wood St & Milwaukee Ave              Subscriber    Male  \n",
       "26     523            Eastlake Ter & Rogers Ave            Subscriber    Male  \n",
       "27     297            Paulina St & Montrose Ave            Subscriber    Male  \n",
       "28     297            Paulina St & Montrose Ave            Subscriber    Male  \n",
       "29     465            Marine Dr & Ainslie St               Subscriber    Male  \n",
       "30      52            Michigan Ave & Lake St               Subscriber    Male  \n",
       "⋮      ⋮              ⋮                                    ⋮             ⋮     \n",
       "365040 461            Broadway & Ridge Ave                 Subscriber    Male  \n",
       "365041  26            McClurg Ct & Illinois St             Subscriber    Male  \n",
       "365042  19            Loomis St & Taylor St (*)            Subscriber    Male  \n",
       "365043  41            Federal St & Polk St                 Subscriber    Male  \n",
       "365044  77            Clinton St & Madison St              Subscriber    Female\n",
       "365045 364            Larrabee St & Oak St                 Subscriber    Male  \n",
       "365046  22            May St & Taylor St                   Customer      Male  \n",
       "365047 115            Sheffield Ave & Wellington Ave       Subscriber    Male  \n",
       "365048 451            Sheridan Rd & Loyola Ave             Subscriber    Male  \n",
       "365049 330            Lincoln Ave & Addison St             Subscriber    Female\n",
       "365050  50            Clark St & Ida B Wells Dr            Subscriber    Male  \n",
       "365051 301            Clark St & Schiller St               Subscriber    Male  \n",
       "365052 158            Milwaukee Ave & Wabansia Ave         Subscriber    Male  \n",
       "365053 172            Rush St & Cedar St                   Subscriber    Male  \n",
       "365054 210            Ashland Ave & Division St            Subscriber    Male  \n",
       "365055 313            Lakeview Ave & Fullerton Pkwy        Subscriber    Male  \n",
       "365056 464            Damen Ave & Foster Ave               Subscriber    Male  \n",
       "365057 263            Rhodes Ave & 32nd St                 Subscriber    Male  \n",
       "365058 219            Damen Ave & Cortland St              Subscriber    Male  \n",
       "365059  24            Fairbanks Ct & Grand Ave             Customer      NA    \n",
       "365060 210            Ashland Ave & Division St            Subscriber    Male  \n",
       "365061  24            Fairbanks Ct & Grand Ave             Customer      NA    \n",
       "365062  26            McClurg Ct & Illinois St             Subscriber    Female\n",
       "365063 233            Sangamon St & Washington Blvd (*)    Subscriber    Male  \n",
       "365064 183            Damen Ave & Thomas St (Augusta Blvd) Subscriber    Male  \n",
       "365065  29            Noble St & Milwaukee Ave             Subscriber    Male  \n",
       "365066 202            Halsted St & 18th St                 Subscriber    Male  \n",
       "365067 273            Michigan Ave & 18th St               Subscriber    Male  \n",
       "365068  39            Wabash Ave & Adams St                Subscriber    Male  \n",
       "365069 247            Shore Dr & 55th St                   Subscriber    Male  \n",
       "       birthyear\n",
       "1      1989     \n",
       "2      1990     \n",
       "3      1994     \n",
       "4      1993     \n",
       "5      1994     \n",
       "6      1983     \n",
       "7      1984     \n",
       "8      1990     \n",
       "9      1995     \n",
       "10     1996     \n",
       "11     1994     \n",
       "12     1994     \n",
       "13     1986     \n",
       "14     1990     \n",
       "15     1989     \n",
       "16     1989     \n",
       "17     1967     \n",
       "18     1990     \n",
       "19     1985     \n",
       "20       NA     \n",
       "21     1957     \n",
       "22       NA     \n",
       "23     1959     \n",
       "24     1994     \n",
       "25     1991     \n",
       "26     1961     \n",
       "27     1968     \n",
       "28     1964     \n",
       "29     1990     \n",
       "30     1994     \n",
       "⋮      ⋮        \n",
       "365040 1986     \n",
       "365041 1990     \n",
       "365042 1992     \n",
       "365043 1992     \n",
       "365044 1985     \n",
       "365045 1972     \n",
       "365046 1993     \n",
       "365047 1988     \n",
       "365048 1992     \n",
       "365049 1985     \n",
       "365050 1957     \n",
       "365051 1994     \n",
       "365052 1991     \n",
       "365053 1980     \n",
       "365054 1988     \n",
       "365055 1987     \n",
       "365056 1983     \n",
       "365057 1984     \n",
       "365058 1970     \n",
       "365059   NA     \n",
       "365060 1972     \n",
       "365061   NA     \n",
       "365062 1984     \n",
       "365063 1971     \n",
       "365064 1985     \n",
       "365065 1993     \n",
       "365066 1992     \n",
       "365067 1984     \n",
       "365068 1969     \n",
       "365069 1998     "
      ]
     },
     "metadata": {},
     "output_type": "display_data"
    }
   ],
   "source": [
    "# Rename columns  to make them consistent with q1_2020\n",
    "(q1_2019 <- rename(q1_2019\n",
    "                   ,ride_id = trip_id\n",
    "                   ,rideable_type = bikeid\n",
    "                   ,started_at = start_time\n",
    "                   ,ended_at = end_time\n",
    "                   ,start_station_name = from_station_name\n",
    "                   ,start_station_id = from_station_id\n",
    "                   ,end_station_name = to_station_name\n",
    "                   ,end_station_id = to_station_id\n",
    "                   ,member_casual = usertype\n",
    "                   ))"
   ]
  },
  {
   "cell_type": "code",
   "execution_count": 5,
   "id": "67090490",
   "metadata": {
    "execution": {
     "iopub.execute_input": "2024-04-26T18:20:53.024746Z",
     "iopub.status.busy": "2024-04-26T18:20:53.022877Z",
     "iopub.status.idle": "2024-04-26T18:20:53.098706Z",
     "shell.execute_reply": "2024-04-26T18:20:53.096298Z"
    },
    "papermill": {
     "duration": 0.096019,
     "end_time": "2024-04-26T18:20:53.101590",
     "exception": false,
     "start_time": "2024-04-26T18:20:53.005571",
     "status": "completed"
    },
    "tags": []
   },
   "outputs": [
    {
     "name": "stdout",
     "output_type": "stream",
     "text": [
      "spc_tbl_ [365,069 × 12] (S3: spec_tbl_df/tbl_df/tbl/data.frame)\n",
      " $ ride_id           : num [1:365069] 21742443 21742444 21742445 21742446 21742447 ...\n",
      " $ started_at        : chr [1:365069] \"2019-01-01 0:04:37\" \"2019-01-01 0:08:13\" \"2019-01-01 0:13:23\" \"2019-01-01 0:13:45\" ...\n",
      " $ ended_at          : chr [1:365069] \"2019-01-01 0:11:07\" \"2019-01-01 0:15:34\" \"2019-01-01 0:27:12\" \"2019-01-01 0:43:28\" ...\n",
      " $ rideable_type     : num [1:365069] 2167 4386 1524 252 1170 ...\n",
      " $ tripduration      : num [1:365069] 390 441 829 1783 364 ...\n",
      " $ start_station_id  : num [1:365069] 199 44 15 123 173 98 98 211 150 268 ...\n",
      " $ start_station_name: chr [1:365069] \"Wabash Ave & Grand Ave\" \"State St & Randolph St\" \"Racine Ave & 18th St\" \"California Ave & Milwaukee Ave\" ...\n",
      " $ end_station_id    : num [1:365069] 84 624 644 176 35 49 49 142 148 141 ...\n",
      " $ end_station_name  : chr [1:365069] \"Milwaukee Ave & Grand Ave\" \"Dearborn St & Van Buren St (*)\" \"Western Ave & Fillmore St (*)\" \"Clark St & Elm St\" ...\n",
      " $ member_casual     : chr [1:365069] \"Subscriber\" \"Subscriber\" \"Subscriber\" \"Subscriber\" ...\n",
      " $ gender            : chr [1:365069] \"Male\" \"Female\" \"Female\" \"Male\" ...\n",
      " $ birthyear         : num [1:365069] 1989 1990 1994 1993 1994 ...\n",
      " - attr(*, \"spec\")=\n",
      "  .. cols(\n",
      "  ..   trip_id = \u001b[32mcol_double()\u001b[39m,\n",
      "  ..   start_time = \u001b[31mcol_character()\u001b[39m,\n",
      "  ..   end_time = \u001b[31mcol_character()\u001b[39m,\n",
      "  ..   bikeid = \u001b[32mcol_double()\u001b[39m,\n",
      "  ..   tripduration = \u001b[32mcol_number()\u001b[39m,\n",
      "  ..   from_station_id = \u001b[32mcol_double()\u001b[39m,\n",
      "  ..   from_station_name = \u001b[31mcol_character()\u001b[39m,\n",
      "  ..   to_station_id = \u001b[32mcol_double()\u001b[39m,\n",
      "  ..   to_station_name = \u001b[31mcol_character()\u001b[39m,\n",
      "  ..   usertype = \u001b[31mcol_character()\u001b[39m,\n",
      "  ..   gender = \u001b[31mcol_character()\u001b[39m,\n",
      "  ..   birthyear = \u001b[32mcol_double()\u001b[39m\n",
      "  .. )\n",
      " - attr(*, \"problems\")=<externalptr> \n",
      "spc_tbl_ [426,887 × 13] (S3: spec_tbl_df/tbl_df/tbl/data.frame)\n",
      " $ ride_id           : chr [1:426887] \"EACB19130B0CDA4A\" \"8FED874C809DC021\" \"789F3C21E472CA96\" \"C9A388DAC6ABF313\" ...\n",
      " $ rideable_type     : chr [1:426887] \"docked_bike\" \"docked_bike\" \"docked_bike\" \"docked_bike\" ...\n",
      " $ started_at        : chr [1:426887] \"2020-01-21 20:06:59\" \"2020-01-30 14:22:39\" \"2020-01-09 19:29:26\" \"2020-01-06 16:17:07\" ...\n",
      " $ ended_at          : chr [1:426887] \"2020-01-21 20:14:30\" \"2020-01-30 14:26:22\" \"2020-01-09 19:32:17\" \"2020-01-06 16:25:56\" ...\n",
      " $ start_station_name: chr [1:426887] \"Western Ave & Leland Ave\" \"Clark St & Montrose Ave\" \"Broadway & Belmont Ave\" \"Clark St & Randolph St\" ...\n",
      " $ start_station_id  : num [1:426887] 239 234 296 51 66 212 96 96 212 38 ...\n",
      " $ end_station_name  : chr [1:426887] \"Clark St & Leland Ave\" \"Southport Ave & Irving Park Rd\" \"Wilton Ave & Belmont Ave\" \"Fairbanks Ct & Grand Ave\" ...\n",
      " $ end_station_id    : num [1:426887] 326 318 117 24 212 96 212 212 96 100 ...\n",
      " $ start_lat         : num [1:426887] 42 42 41.9 41.9 41.9 ...\n",
      " $ start_lng         : num [1:426887] -87.7 -87.7 -87.6 -87.6 -87.6 ...\n",
      " $ end_lat           : num [1:426887] 42 42 41.9 41.9 41.9 ...\n",
      " $ end_lng           : num [1:426887] -87.7 -87.7 -87.7 -87.6 -87.6 ...\n",
      " $ member_casual     : chr [1:426887] \"member\" \"member\" \"member\" \"member\" ...\n",
      " - attr(*, \"spec\")=\n",
      "  .. cols(\n",
      "  ..   ride_id = \u001b[31mcol_character()\u001b[39m,\n",
      "  ..   rideable_type = \u001b[31mcol_character()\u001b[39m,\n",
      "  ..   started_at = \u001b[31mcol_character()\u001b[39m,\n",
      "  ..   ended_at = \u001b[31mcol_character()\u001b[39m,\n",
      "  ..   start_station_name = \u001b[31mcol_character()\u001b[39m,\n",
      "  ..   start_station_id = \u001b[32mcol_double()\u001b[39m,\n",
      "  ..   end_station_name = \u001b[31mcol_character()\u001b[39m,\n",
      "  ..   end_station_id = \u001b[32mcol_double()\u001b[39m,\n",
      "  ..   start_lat = \u001b[32mcol_double()\u001b[39m,\n",
      "  ..   start_lng = \u001b[32mcol_double()\u001b[39m,\n",
      "  ..   end_lat = \u001b[32mcol_double()\u001b[39m,\n",
      "  ..   end_lng = \u001b[32mcol_double()\u001b[39m,\n",
      "  ..   member_casual = \u001b[31mcol_character()\u001b[39m\n",
      "  .. )\n",
      " - attr(*, \"problems\")=<externalptr> \n"
     ]
    }
   ],
   "source": [
    "# Inspecting the dataframes and looking for incongruencies\n",
    "str(q1_2019)\n",
    "str(q1_2020)"
   ]
  },
  {
   "cell_type": "code",
   "execution_count": 6,
   "id": "acfb0ad3",
   "metadata": {
    "execution": {
     "iopub.execute_input": "2024-04-26T18:20:53.135990Z",
     "iopub.status.busy": "2024-04-26T18:20:53.134216Z",
     "iopub.status.idle": "2024-04-26T18:20:56.744830Z",
     "shell.execute_reply": "2024-04-26T18:20:56.742745Z"
    },
    "papermill": {
     "duration": 3.630533,
     "end_time": "2024-04-26T18:20:56.747974",
     "exception": false,
     "start_time": "2024-04-26T18:20:53.117441",
     "status": "completed"
    },
    "tags": []
   },
   "outputs": [],
   "source": [
    "# Converting ride_id and rideable_type to character so that they can stack correctly\n",
    "q1_2019 <-  mutate(q1_2019, ride_id = as.character(ride_id)\n",
    "                   ,rideable_type = as.character(rideable_type)) \n",
    "\n",
    "# Stacking individual quarter's data frames into one big data frame\n",
    "all_trips <- bind_rows(q1_2019, q1_2020)\n",
    "\n",
    "# Removing lat, long, birthyear, and gender fields as this data was dropped beginning in 2020\n",
    "all_trips <- all_trips %>%  \n",
    "  select(-c(start_lat, start_lng, end_lat, end_lng, birthyear, gender,  \"tripduration\"))"
   ]
  },
  {
   "cell_type": "code",
   "execution_count": 7,
   "id": "20f8cafe",
   "metadata": {
    "execution": {
     "iopub.execute_input": "2024-04-26T18:20:56.783601Z",
     "iopub.status.busy": "2024-04-26T18:20:56.781908Z",
     "iopub.status.idle": "2024-04-26T18:20:56.817864Z",
     "shell.execute_reply": "2024-04-26T18:20:56.815619Z"
    },
    "papermill": {
     "duration": 0.057302,
     "end_time": "2024-04-26T18:20:56.820746",
     "exception": false,
     "start_time": "2024-04-26T18:20:56.763444",
     "status": "completed"
    },
    "tags": []
   },
   "outputs": [
    {
     "name": "stdout",
     "output_type": "stream",
     "text": [
      "tibble [791,956 × 9] (S3: tbl_df/tbl/data.frame)\n",
      " $ ride_id           : chr [1:791956] \"21742443\" \"21742444\" \"21742445\" \"21742446\" ...\n",
      " $ started_at        : chr [1:791956] \"2019-01-01 0:04:37\" \"2019-01-01 0:08:13\" \"2019-01-01 0:13:23\" \"2019-01-01 0:13:45\" ...\n",
      " $ ended_at          : chr [1:791956] \"2019-01-01 0:11:07\" \"2019-01-01 0:15:34\" \"2019-01-01 0:27:12\" \"2019-01-01 0:43:28\" ...\n",
      " $ rideable_type     : chr [1:791956] \"2167\" \"4386\" \"1524\" \"252\" ...\n",
      " $ start_station_id  : num [1:791956] 199 44 15 123 173 98 98 211 150 268 ...\n",
      " $ start_station_name: chr [1:791956] \"Wabash Ave & Grand Ave\" \"State St & Randolph St\" \"Racine Ave & 18th St\" \"California Ave & Milwaukee Ave\" ...\n",
      " $ end_station_id    : num [1:791956] 84 624 644 176 35 49 49 142 148 141 ...\n",
      " $ end_station_name  : chr [1:791956] \"Milwaukee Ave & Grand Ave\" \"Dearborn St & Van Buren St (*)\" \"Western Ave & Fillmore St (*)\" \"Clark St & Elm St\" ...\n",
      " $ member_casual     : chr [1:791956] \"Subscriber\" \"Subscriber\" \"Subscriber\" \"Subscriber\" ...\n"
     ]
    }
   ],
   "source": [
    "# checking the structure of the new dataframe\n",
    "str(all_trips)"
   ]
  },
  {
   "cell_type": "markdown",
   "id": "ab2a324b",
   "metadata": {
    "papermill": {
     "duration": 0.014603,
     "end_time": "2024-04-26T18:20:56.850271",
     "exception": false,
     "start_time": "2024-04-26T18:20:56.835668",
     "status": "completed"
    },
    "tags": []
   },
   "source": [
    "# STEP 3: CLEAN UP AND ADD DATA TO PREPARE FOR ANALYSIS"
   ]
  },
  {
   "cell_type": "code",
   "execution_count": 8,
   "id": "d9299bed",
   "metadata": {
    "execution": {
     "iopub.execute_input": "2024-04-26T18:20:56.889895Z",
     "iopub.status.busy": "2024-04-26T18:20:56.888205Z",
     "iopub.status.idle": "2024-04-26T18:20:57.148844Z",
     "shell.execute_reply": "2024-04-26T18:20:57.146743Z"
    },
    "papermill": {
     "duration": 0.284368,
     "end_time": "2024-04-26T18:20:57.152153",
     "exception": false,
     "start_time": "2024-04-26T18:20:56.867785",
     "status": "completed"
    },
    "tags": []
   },
   "outputs": [
    {
     "data": {
      "text/html": [
       "<style>\n",
       ".list-inline {list-style: none; margin:0; padding: 0}\n",
       ".list-inline>li {display: inline-block}\n",
       ".list-inline>li:not(:last-child)::after {content: \"\\00b7\"; padding: 0 .5ex}\n",
       "</style>\n",
       "<ol class=list-inline><li>'ride_id'</li><li>'started_at'</li><li>'ended_at'</li><li>'rideable_type'</li><li>'start_station_id'</li><li>'start_station_name'</li><li>'end_station_id'</li><li>'end_station_name'</li><li>'member_casual'</li></ol>\n"
      ],
      "text/latex": [
       "\\begin{enumerate*}\n",
       "\\item 'ride\\_id'\n",
       "\\item 'started\\_at'\n",
       "\\item 'ended\\_at'\n",
       "\\item 'rideable\\_type'\n",
       "\\item 'start\\_station\\_id'\n",
       "\\item 'start\\_station\\_name'\n",
       "\\item 'end\\_station\\_id'\n",
       "\\item 'end\\_station\\_name'\n",
       "\\item 'member\\_casual'\n",
       "\\end{enumerate*}\n"
      ],
      "text/markdown": [
       "1. 'ride_id'\n",
       "2. 'started_at'\n",
       "3. 'ended_at'\n",
       "4. 'rideable_type'\n",
       "5. 'start_station_id'\n",
       "6. 'start_station_name'\n",
       "7. 'end_station_id'\n",
       "8. 'end_station_name'\n",
       "9. 'member_casual'\n",
       "\n",
       "\n"
      ],
      "text/plain": [
       "[1] \"ride_id\"            \"started_at\"         \"ended_at\"          \n",
       "[4] \"rideable_type\"      \"start_station_id\"   \"start_station_name\"\n",
       "[7] \"end_station_id\"     \"end_station_name\"   \"member_casual\"     "
      ]
     },
     "metadata": {},
     "output_type": "display_data"
    },
    {
     "data": {
      "text/html": [
       "791956"
      ],
      "text/latex": [
       "791956"
      ],
      "text/markdown": [
       "791956"
      ],
      "text/plain": [
       "[1] 791956"
      ]
     },
     "metadata": {},
     "output_type": "display_data"
    },
    {
     "data": {
      "text/html": [
       "<style>\n",
       ".list-inline {list-style: none; margin:0; padding: 0}\n",
       ".list-inline>li {display: inline-block}\n",
       ".list-inline>li:not(:last-child)::after {content: \"\\00b7\"; padding: 0 .5ex}\n",
       "</style>\n",
       "<ol class=list-inline><li>791956</li><li>9</li></ol>\n"
      ],
      "text/latex": [
       "\\begin{enumerate*}\n",
       "\\item 791956\n",
       "\\item 9\n",
       "\\end{enumerate*}\n"
      ],
      "text/markdown": [
       "1. 791956\n",
       "2. 9\n",
       "\n",
       "\n"
      ],
      "text/plain": [
       "[1] 791956      9"
      ]
     },
     "metadata": {},
     "output_type": "display_data"
    },
    {
     "data": {
      "text/html": [
       "<table class=\"dataframe\">\n",
       "<caption>A tibble: 6 × 9</caption>\n",
       "<thead>\n",
       "\t<tr><th scope=col>ride_id</th><th scope=col>started_at</th><th scope=col>ended_at</th><th scope=col>rideable_type</th><th scope=col>start_station_id</th><th scope=col>start_station_name</th><th scope=col>end_station_id</th><th scope=col>end_station_name</th><th scope=col>member_casual</th></tr>\n",
       "\t<tr><th scope=col>&lt;chr&gt;</th><th scope=col>&lt;chr&gt;</th><th scope=col>&lt;chr&gt;</th><th scope=col>&lt;chr&gt;</th><th scope=col>&lt;dbl&gt;</th><th scope=col>&lt;chr&gt;</th><th scope=col>&lt;dbl&gt;</th><th scope=col>&lt;chr&gt;</th><th scope=col>&lt;chr&gt;</th></tr>\n",
       "</thead>\n",
       "<tbody>\n",
       "\t<tr><td>21742443</td><td>2019-01-01 0:04:37</td><td>2019-01-01 0:11:07</td><td>2167</td><td>199</td><td><span style=white-space:pre-wrap>Wabash Ave &amp; Grand Ave             </span></td><td> 84</td><td><span style=white-space:pre-wrap>Milwaukee Ave &amp; Grand Ave     </span></td><td>Subscriber</td></tr>\n",
       "\t<tr><td>21742444</td><td>2019-01-01 0:08:13</td><td>2019-01-01 0:15:34</td><td>4386</td><td> 44</td><td><span style=white-space:pre-wrap>State St &amp; Randolph St             </span></td><td>624</td><td>Dearborn St &amp; Van Buren St (*)</td><td>Subscriber</td></tr>\n",
       "\t<tr><td>21742445</td><td>2019-01-01 0:13:23</td><td>2019-01-01 0:27:12</td><td>1524</td><td> 15</td><td><span style=white-space:pre-wrap>Racine Ave &amp; 18th St               </span></td><td>644</td><td>Western Ave &amp; Fillmore St (*) </td><td>Subscriber</td></tr>\n",
       "\t<tr><td>21742446</td><td>2019-01-01 0:13:45</td><td>2019-01-01 0:43:28</td><td>252 </td><td>123</td><td><span style=white-space:pre-wrap>California Ave &amp; Milwaukee Ave     </span></td><td>176</td><td><span style=white-space:pre-wrap>Clark St &amp; Elm St             </span></td><td>Subscriber</td></tr>\n",
       "\t<tr><td>21742447</td><td>2019-01-01 0:14:52</td><td>2019-01-01 0:20:56</td><td>1170</td><td>173</td><td>Mies van der Rohe Way &amp; Chicago Ave</td><td> 35</td><td><span style=white-space:pre-wrap>Streeter Dr &amp; Grand Ave       </span></td><td>Subscriber</td></tr>\n",
       "\t<tr><td>21742448</td><td>2019-01-01 0:15:33</td><td>2019-01-01 0:19:09</td><td>2437</td><td> 98</td><td><span style=white-space:pre-wrap>LaSalle St &amp; Washington St         </span></td><td> 49</td><td><span style=white-space:pre-wrap>Dearborn St &amp; Monroe St       </span></td><td>Subscriber</td></tr>\n",
       "</tbody>\n",
       "</table>\n"
      ],
      "text/latex": [
       "A tibble: 6 × 9\n",
       "\\begin{tabular}{lllllllll}\n",
       " ride\\_id & started\\_at & ended\\_at & rideable\\_type & start\\_station\\_id & start\\_station\\_name & end\\_station\\_id & end\\_station\\_name & member\\_casual\\\\\n",
       " <chr> & <chr> & <chr> & <chr> & <dbl> & <chr> & <dbl> & <chr> & <chr>\\\\\n",
       "\\hline\n",
       "\t 21742443 & 2019-01-01 0:04:37 & 2019-01-01 0:11:07 & 2167 & 199 & Wabash Ave \\& Grand Ave              &  84 & Milwaukee Ave \\& Grand Ave      & Subscriber\\\\\n",
       "\t 21742444 & 2019-01-01 0:08:13 & 2019-01-01 0:15:34 & 4386 &  44 & State St \\& Randolph St              & 624 & Dearborn St \\& Van Buren St (*) & Subscriber\\\\\n",
       "\t 21742445 & 2019-01-01 0:13:23 & 2019-01-01 0:27:12 & 1524 &  15 & Racine Ave \\& 18th St                & 644 & Western Ave \\& Fillmore St (*)  & Subscriber\\\\\n",
       "\t 21742446 & 2019-01-01 0:13:45 & 2019-01-01 0:43:28 & 252  & 123 & California Ave \\& Milwaukee Ave      & 176 & Clark St \\& Elm St              & Subscriber\\\\\n",
       "\t 21742447 & 2019-01-01 0:14:52 & 2019-01-01 0:20:56 & 1170 & 173 & Mies van der Rohe Way \\& Chicago Ave &  35 & Streeter Dr \\& Grand Ave        & Subscriber\\\\\n",
       "\t 21742448 & 2019-01-01 0:15:33 & 2019-01-01 0:19:09 & 2437 &  98 & LaSalle St \\& Washington St          &  49 & Dearborn St \\& Monroe St        & Subscriber\\\\\n",
       "\\end{tabular}\n"
      ],
      "text/markdown": [
       "\n",
       "A tibble: 6 × 9\n",
       "\n",
       "| ride_id &lt;chr&gt; | started_at &lt;chr&gt; | ended_at &lt;chr&gt; | rideable_type &lt;chr&gt; | start_station_id &lt;dbl&gt; | start_station_name &lt;chr&gt; | end_station_id &lt;dbl&gt; | end_station_name &lt;chr&gt; | member_casual &lt;chr&gt; |\n",
       "|---|---|---|---|---|---|---|---|---|\n",
       "| 21742443 | 2019-01-01 0:04:37 | 2019-01-01 0:11:07 | 2167 | 199 | Wabash Ave &amp; Grand Ave              |  84 | Milwaukee Ave &amp; Grand Ave      | Subscriber |\n",
       "| 21742444 | 2019-01-01 0:08:13 | 2019-01-01 0:15:34 | 4386 |  44 | State St &amp; Randolph St              | 624 | Dearborn St &amp; Van Buren St (*) | Subscriber |\n",
       "| 21742445 | 2019-01-01 0:13:23 | 2019-01-01 0:27:12 | 1524 |  15 | Racine Ave &amp; 18th St                | 644 | Western Ave &amp; Fillmore St (*)  | Subscriber |\n",
       "| 21742446 | 2019-01-01 0:13:45 | 2019-01-01 0:43:28 | 252  | 123 | California Ave &amp; Milwaukee Ave      | 176 | Clark St &amp; Elm St              | Subscriber |\n",
       "| 21742447 | 2019-01-01 0:14:52 | 2019-01-01 0:20:56 | 1170 | 173 | Mies van der Rohe Way &amp; Chicago Ave |  35 | Streeter Dr &amp; Grand Ave        | Subscriber |\n",
       "| 21742448 | 2019-01-01 0:15:33 | 2019-01-01 0:19:09 | 2437 |  98 | LaSalle St &amp; Washington St          |  49 | Dearborn St &amp; Monroe St        | Subscriber |\n",
       "\n"
      ],
      "text/plain": [
       "  ride_id  started_at         ended_at           rideable_type start_station_id\n",
       "1 21742443 2019-01-01 0:04:37 2019-01-01 0:11:07 2167          199             \n",
       "2 21742444 2019-01-01 0:08:13 2019-01-01 0:15:34 4386           44             \n",
       "3 21742445 2019-01-01 0:13:23 2019-01-01 0:27:12 1524           15             \n",
       "4 21742446 2019-01-01 0:13:45 2019-01-01 0:43:28 252           123             \n",
       "5 21742447 2019-01-01 0:14:52 2019-01-01 0:20:56 1170          173             \n",
       "6 21742448 2019-01-01 0:15:33 2019-01-01 0:19:09 2437           98             \n",
       "  start_station_name                  end_station_id\n",
       "1 Wabash Ave & Grand Ave               84           \n",
       "2 State St & Randolph St              624           \n",
       "3 Racine Ave & 18th St                644           \n",
       "4 California Ave & Milwaukee Ave      176           \n",
       "5 Mies van der Rohe Way & Chicago Ave  35           \n",
       "6 LaSalle St & Washington St           49           \n",
       "  end_station_name               member_casual\n",
       "1 Milwaukee Ave & Grand Ave      Subscriber   \n",
       "2 Dearborn St & Van Buren St (*) Subscriber   \n",
       "3 Western Ave & Fillmore St (*)  Subscriber   \n",
       "4 Clark St & Elm St              Subscriber   \n",
       "5 Streeter Dr & Grand Ave        Subscriber   \n",
       "6 Dearborn St & Monroe St        Subscriber   "
      ]
     },
     "metadata": {},
     "output_type": "display_data"
    },
    {
     "data": {
      "text/html": [
       "<table class=\"dataframe\">\n",
       "<caption>A tibble: 6 × 9</caption>\n",
       "<thead>\n",
       "\t<tr><th scope=col>ride_id</th><th scope=col>started_at</th><th scope=col>ended_at</th><th scope=col>rideable_type</th><th scope=col>start_station_id</th><th scope=col>start_station_name</th><th scope=col>end_station_id</th><th scope=col>end_station_name</th><th scope=col>member_casual</th></tr>\n",
       "\t<tr><th scope=col>&lt;chr&gt;</th><th scope=col>&lt;chr&gt;</th><th scope=col>&lt;chr&gt;</th><th scope=col>&lt;chr&gt;</th><th scope=col>&lt;dbl&gt;</th><th scope=col>&lt;chr&gt;</th><th scope=col>&lt;dbl&gt;</th><th scope=col>&lt;chr&gt;</th><th scope=col>&lt;chr&gt;</th></tr>\n",
       "</thead>\n",
       "<tbody>\n",
       "\t<tr><td>6F4D221BDDFD943F</td><td>2020-03-10 10:40:27</td><td>2020-03-10 10:40:29</td><td>docked_bike</td><td>675</td><td>HQ QR                    </td><td>675</td><td>HQ QR                       </td><td>casual</td></tr>\n",
       "\t<tr><td>ADDAA33CEBCAE733</td><td>2020-03-10 10:40:06</td><td>2020-03-10 10:40:07</td><td>docked_bike</td><td>675</td><td>HQ QR                    </td><td>675</td><td>HQ QR                       </td><td>casual</td></tr>\n",
       "\t<tr><td>82B10FA3994BC66A</td><td>2020-03-07 15:25:55</td><td>2020-03-07 16:14:03</td><td>docked_bike</td><td>161</td><td><span style=white-space:pre-wrap>Rush St &amp; Superior St    </span></td><td>240</td><td>Sheridan Rd &amp; Irving Park Rd</td><td>member</td></tr>\n",
       "\t<tr><td>AA0D5AAA0B59C8AA</td><td>2020-03-01 13:12:38</td><td>2020-03-01 13:38:29</td><td>docked_bike</td><td>141</td><td><span style=white-space:pre-wrap>Clark St &amp; Lincoln Ave   </span></td><td>210</td><td><span style=white-space:pre-wrap>Ashland Ave &amp; Division St   </span></td><td>casual</td></tr>\n",
       "\t<tr><td>3296360A7BC20FB8</td><td>2020-03-07 18:02:45</td><td>2020-03-07 18:13:18</td><td>docked_bike</td><td>672</td><td>Franklin St &amp; Illinois St</td><td>264</td><td>Stetson Ave &amp; South Water St</td><td>member</td></tr>\n",
       "\t<tr><td>064EC7698E4FF9B3</td><td>2020-03-08 13:03:57</td><td>2020-03-08 13:32:27</td><td>docked_bike</td><td>110</td><td><span style=white-space:pre-wrap>Dearborn St &amp; Erie St    </span></td><td> 85</td><td><span style=white-space:pre-wrap>Michigan Ave &amp; Oak St       </span></td><td>casual</td></tr>\n",
       "</tbody>\n",
       "</table>\n"
      ],
      "text/latex": [
       "A tibble: 6 × 9\n",
       "\\begin{tabular}{lllllllll}\n",
       " ride\\_id & started\\_at & ended\\_at & rideable\\_type & start\\_station\\_id & start\\_station\\_name & end\\_station\\_id & end\\_station\\_name & member\\_casual\\\\\n",
       " <chr> & <chr> & <chr> & <chr> & <dbl> & <chr> & <dbl> & <chr> & <chr>\\\\\n",
       "\\hline\n",
       "\t 6F4D221BDDFD943F & 2020-03-10 10:40:27 & 2020-03-10 10:40:29 & docked\\_bike & 675 & HQ QR                     & 675 & HQ QR                        & casual\\\\\n",
       "\t ADDAA33CEBCAE733 & 2020-03-10 10:40:06 & 2020-03-10 10:40:07 & docked\\_bike & 675 & HQ QR                     & 675 & HQ QR                        & casual\\\\\n",
       "\t 82B10FA3994BC66A & 2020-03-07 15:25:55 & 2020-03-07 16:14:03 & docked\\_bike & 161 & Rush St \\& Superior St     & 240 & Sheridan Rd \\& Irving Park Rd & member\\\\\n",
       "\t AA0D5AAA0B59C8AA & 2020-03-01 13:12:38 & 2020-03-01 13:38:29 & docked\\_bike & 141 & Clark St \\& Lincoln Ave    & 210 & Ashland Ave \\& Division St    & casual\\\\\n",
       "\t 3296360A7BC20FB8 & 2020-03-07 18:02:45 & 2020-03-07 18:13:18 & docked\\_bike & 672 & Franklin St \\& Illinois St & 264 & Stetson Ave \\& South Water St & member\\\\\n",
       "\t 064EC7698E4FF9B3 & 2020-03-08 13:03:57 & 2020-03-08 13:32:27 & docked\\_bike & 110 & Dearborn St \\& Erie St     &  85 & Michigan Ave \\& Oak St        & casual\\\\\n",
       "\\end{tabular}\n"
      ],
      "text/markdown": [
       "\n",
       "A tibble: 6 × 9\n",
       "\n",
       "| ride_id &lt;chr&gt; | started_at &lt;chr&gt; | ended_at &lt;chr&gt; | rideable_type &lt;chr&gt; | start_station_id &lt;dbl&gt; | start_station_name &lt;chr&gt; | end_station_id &lt;dbl&gt; | end_station_name &lt;chr&gt; | member_casual &lt;chr&gt; |\n",
       "|---|---|---|---|---|---|---|---|---|\n",
       "| 6F4D221BDDFD943F | 2020-03-10 10:40:27 | 2020-03-10 10:40:29 | docked_bike | 675 | HQ QR                     | 675 | HQ QR                        | casual |\n",
       "| ADDAA33CEBCAE733 | 2020-03-10 10:40:06 | 2020-03-10 10:40:07 | docked_bike | 675 | HQ QR                     | 675 | HQ QR                        | casual |\n",
       "| 82B10FA3994BC66A | 2020-03-07 15:25:55 | 2020-03-07 16:14:03 | docked_bike | 161 | Rush St &amp; Superior St     | 240 | Sheridan Rd &amp; Irving Park Rd | member |\n",
       "| AA0D5AAA0B59C8AA | 2020-03-01 13:12:38 | 2020-03-01 13:38:29 | docked_bike | 141 | Clark St &amp; Lincoln Ave    | 210 | Ashland Ave &amp; Division St    | casual |\n",
       "| 3296360A7BC20FB8 | 2020-03-07 18:02:45 | 2020-03-07 18:13:18 | docked_bike | 672 | Franklin St &amp; Illinois St | 264 | Stetson Ave &amp; South Water St | member |\n",
       "| 064EC7698E4FF9B3 | 2020-03-08 13:03:57 | 2020-03-08 13:32:27 | docked_bike | 110 | Dearborn St &amp; Erie St     |  85 | Michigan Ave &amp; Oak St        | casual |\n",
       "\n"
      ],
      "text/plain": [
       "  ride_id          started_at          ended_at            rideable_type\n",
       "1 6F4D221BDDFD943F 2020-03-10 10:40:27 2020-03-10 10:40:29 docked_bike  \n",
       "2 ADDAA33CEBCAE733 2020-03-10 10:40:06 2020-03-10 10:40:07 docked_bike  \n",
       "3 82B10FA3994BC66A 2020-03-07 15:25:55 2020-03-07 16:14:03 docked_bike  \n",
       "4 AA0D5AAA0B59C8AA 2020-03-01 13:12:38 2020-03-01 13:38:29 docked_bike  \n",
       "5 3296360A7BC20FB8 2020-03-07 18:02:45 2020-03-07 18:13:18 docked_bike  \n",
       "6 064EC7698E4FF9B3 2020-03-08 13:03:57 2020-03-08 13:32:27 docked_bike  \n",
       "  start_station_id start_station_name        end_station_id\n",
       "1 675              HQ QR                     675           \n",
       "2 675              HQ QR                     675           \n",
       "3 161              Rush St & Superior St     240           \n",
       "4 141              Clark St & Lincoln Ave    210           \n",
       "5 672              Franklin St & Illinois St 264           \n",
       "6 110              Dearborn St & Erie St      85           \n",
       "  end_station_name             member_casual\n",
       "1 HQ QR                        casual       \n",
       "2 HQ QR                        casual       \n",
       "3 Sheridan Rd & Irving Park Rd member       \n",
       "4 Ashland Ave & Division St    casual       \n",
       "5 Stetson Ave & South Water St member       \n",
       "6 Michigan Ave & Oak St        casual       "
      ]
     },
     "metadata": {},
     "output_type": "display_data"
    },
    {
     "name": "stdout",
     "output_type": "stream",
     "text": [
      "tibble [791,956 × 9] (S3: tbl_df/tbl/data.frame)\n",
      " $ ride_id           : chr [1:791956] \"21742443\" \"21742444\" \"21742445\" \"21742446\" ...\n",
      " $ started_at        : chr [1:791956] \"2019-01-01 0:04:37\" \"2019-01-01 0:08:13\" \"2019-01-01 0:13:23\" \"2019-01-01 0:13:45\" ...\n",
      " $ ended_at          : chr [1:791956] \"2019-01-01 0:11:07\" \"2019-01-01 0:15:34\" \"2019-01-01 0:27:12\" \"2019-01-01 0:43:28\" ...\n",
      " $ rideable_type     : chr [1:791956] \"2167\" \"4386\" \"1524\" \"252\" ...\n",
      " $ start_station_id  : num [1:791956] 199 44 15 123 173 98 98 211 150 268 ...\n",
      " $ start_station_name: chr [1:791956] \"Wabash Ave & Grand Ave\" \"State St & Randolph St\" \"Racine Ave & 18th St\" \"California Ave & Milwaukee Ave\" ...\n",
      " $ end_station_id    : num [1:791956] 84 624 644 176 35 49 49 142 148 141 ...\n",
      " $ end_station_name  : chr [1:791956] \"Milwaukee Ave & Grand Ave\" \"Dearborn St & Van Buren St (*)\" \"Western Ave & Fillmore St (*)\" \"Clark St & Elm St\" ...\n",
      " $ member_casual     : chr [1:791956] \"Subscriber\" \"Subscriber\" \"Subscriber\" \"Subscriber\" ...\n"
     ]
    },
    {
     "data": {
      "text/plain": [
       "   ride_id           started_at          ended_at         rideable_type     \n",
       " Length:791956      Length:791956      Length:791956      Length:791956     \n",
       " Class :character   Class :character   Class :character   Class :character  \n",
       " Mode  :character   Mode  :character   Mode  :character   Mode  :character  \n",
       "                                                                            \n",
       "                                                                            \n",
       "                                                                            \n",
       "                                                                            \n",
       " start_station_id start_station_name end_station_id  end_station_name  \n",
       " Min.   :  2.0    Length:791956      Min.   :  2.0   Length:791956     \n",
       " 1st Qu.: 77.0    Class :character   1st Qu.: 77.0   Class :character  \n",
       " Median :174.0    Mode  :character   Median :174.0   Mode  :character  \n",
       " Mean   :204.4                       Mean   :204.4                     \n",
       " 3rd Qu.:291.0                       3rd Qu.:291.0                     \n",
       " Max.   :675.0                       Max.   :675.0                     \n",
       "                                     NA's   :1                         \n",
       " member_casual     \n",
       " Length:791956     \n",
       " Class :character  \n",
       " Mode  :character  \n",
       "                   \n",
       "                   \n",
       "                   \n",
       "                   "
      ]
     },
     "metadata": {},
     "output_type": "display_data"
    }
   ],
   "source": [
    "# Inspecting the new dataframe\n",
    "colnames(all_trips)  #List of column names\n",
    "nrow(all_trips)  #number of rows in data frame\n",
    "dim(all_trips)  #Dimensions of the data frame\n",
    "head(all_trips)  #first 6 rows of data frame\n",
    "tail(all_trips)   #last 6 rows of data frame\n",
    "str(all_trips)  #list of columns and data types \n",
    "summary(all_trips)  #Statistical summary of data"
   ]
  },
  {
   "cell_type": "markdown",
   "id": "cd5faff9",
   "metadata": {
    "papermill": {
     "duration": 0.019162,
     "end_time": "2024-04-26T18:20:57.189734",
     "exception": false,
     "start_time": "2024-04-26T18:20:57.170572",
     "status": "completed"
    },
    "tags": []
   },
   "source": [
    "There are a few problems we need to fix: \n",
    "1. In the \"member_casual\" column, there are two names for members (\"member\" and \"Subscriber\") and two names for casual riders (\"Customer\" and \"casual\"). We will need to consolidate that from four to two labels. \n",
    "2. The data can only be aggregated at the ride-level, adding additional columns on day, month, year which will provide additional opportunities to aggregate the data. \n",
    "3. We need to add a calculated field for length of ride since the 2020Q1 data did not have the \"tripduration\" column. We will add \"ride_length\" to the entire dataframe for consistency. \n",
    "4. There are some rides where tripduration shows up as negative, including several hundred rides where Divvy took bikes out of circulation for Quality Control"
   ]
  },
  {
   "cell_type": "code",
   "execution_count": 9,
   "id": "6f395f2f",
   "metadata": {
    "execution": {
     "iopub.execute_input": "2024-04-26T18:20:57.229244Z",
     "iopub.status.busy": "2024-04-26T18:20:57.227308Z",
     "iopub.status.idle": "2024-04-26T18:20:57.461646Z",
     "shell.execute_reply": "2024-04-26T18:20:57.459609Z"
    },
    "papermill": {
     "duration": 0.256886,
     "end_time": "2024-04-26T18:20:57.464691",
     "exception": false,
     "start_time": "2024-04-26T18:20:57.207805",
     "status": "completed"
    },
    "tags": []
   },
   "outputs": [
    {
     "data": {
      "text/plain": [
       "\n",
       "    casual   Customer     member Subscriber \n",
       "     48480      23163     378407     341906 "
      ]
     },
     "metadata": {},
     "output_type": "display_data"
    }
   ],
   "source": [
    "# In the \"member_casual\" column, replace \"Subscriber\" with \"member\" and \"Customer\" with \"casual\" for consistency\n",
    "# Checking how many observations fall under each usertype\n",
    "table(all_trips$member_casual)"
   ]
  },
  {
   "cell_type": "code",
   "execution_count": 10,
   "id": "a859c840",
   "metadata": {
    "execution": {
     "iopub.execute_input": "2024-04-26T18:20:57.503159Z",
     "iopub.status.busy": "2024-04-26T18:20:57.501172Z",
     "iopub.status.idle": "2024-04-26T18:20:58.412399Z",
     "shell.execute_reply": "2024-04-26T18:20:58.410190Z"
    },
    "papermill": {
     "duration": 0.935324,
     "end_time": "2024-04-26T18:20:58.416491",
     "exception": false,
     "start_time": "2024-04-26T18:20:57.481167",
     "status": "completed"
    },
    "tags": []
   },
   "outputs": [],
   "source": [
    "# Reassigning to desired values \n",
    "all_trips <-  all_trips %>% \n",
    "  mutate(member_casual = recode(member_casual\n",
    "                                ,\"Subscriber\" = \"member\"\n",
    "                                ,\"Customer\" = \"casual\"))"
   ]
  },
  {
   "cell_type": "code",
   "execution_count": 11,
   "id": "742efedd",
   "metadata": {
    "execution": {
     "iopub.execute_input": "2024-04-26T18:20:58.463231Z",
     "iopub.status.busy": "2024-04-26T18:20:58.460809Z",
     "iopub.status.idle": "2024-04-26T18:20:58.548557Z",
     "shell.execute_reply": "2024-04-26T18:20:58.546550Z"
    },
    "papermill": {
     "duration": 0.114572,
     "end_time": "2024-04-26T18:20:58.551480",
     "exception": false,
     "start_time": "2024-04-26T18:20:58.436908",
     "status": "completed"
    },
    "tags": []
   },
   "outputs": [
    {
     "data": {
      "text/plain": [
       "\n",
       "casual member \n",
       " 71643 720313 "
      ]
     },
     "metadata": {},
     "output_type": "display_data"
    }
   ],
   "source": [
    "# Checking to make sure the proper number of observations were reassigned\n",
    "table(all_trips$member_casual)"
   ]
  },
  {
   "cell_type": "code",
   "execution_count": 12,
   "id": "7de0b6ed",
   "metadata": {
    "execution": {
     "iopub.execute_input": "2024-04-26T18:20:58.590965Z",
     "iopub.status.busy": "2024-04-26T18:20:58.589044Z",
     "iopub.status.idle": "2024-04-26T18:21:00.797188Z",
     "shell.execute_reply": "2024-04-26T18:21:00.794495Z"
    },
    "papermill": {
     "duration": 2.232025,
     "end_time": "2024-04-26T18:21:00.800360",
     "exception": false,
     "start_time": "2024-04-26T18:20:58.568335",
     "status": "completed"
    },
    "tags": []
   },
   "outputs": [],
   "source": [
    "# Adding columns that list the date, month, day, and year of each ride\n",
    "\n",
    "all_trips$date <- as.Date(all_trips$started_at) #The default format is yyyy-mm-dd\n",
    "all_trips$month <- format(as.Date(all_trips$date), \"%m\")\n",
    "all_trips$day <- format(as.Date(all_trips$date), \"%d\")\n",
    "all_trips$year <- format(as.Date(all_trips$date), \"%Y\")\n",
    "all_trips$day_of_week <- format(as.Date(all_trips$date), \"%A\")"
   ]
  },
  {
   "cell_type": "code",
   "execution_count": 13,
   "id": "bfcfe0fd",
   "metadata": {
    "execution": {
     "iopub.execute_input": "2024-04-26T18:21:00.839893Z",
     "iopub.status.busy": "2024-04-26T18:21:00.838120Z",
     "iopub.status.idle": "2024-04-26T18:21:00.888631Z",
     "shell.execute_reply": "2024-04-26T18:21:00.885728Z"
    },
    "papermill": {
     "duration": 0.073392,
     "end_time": "2024-04-26T18:21:00.891297",
     "exception": false,
     "start_time": "2024-04-26T18:21:00.817905",
     "status": "completed"
    },
    "tags": []
   },
   "outputs": [
    {
     "name": "stdout",
     "output_type": "stream",
     "text": [
      "tibble [791,956 × 14] (S3: tbl_df/tbl/data.frame)\n",
      " $ ride_id           : chr [1:791956] \"21742443\" \"21742444\" \"21742445\" \"21742446\" ...\n",
      " $ started_at        : chr [1:791956] \"2019-01-01 0:04:37\" \"2019-01-01 0:08:13\" \"2019-01-01 0:13:23\" \"2019-01-01 0:13:45\" ...\n",
      " $ ended_at          : chr [1:791956] \"2019-01-01 0:11:07\" \"2019-01-01 0:15:34\" \"2019-01-01 0:27:12\" \"2019-01-01 0:43:28\" ...\n",
      " $ rideable_type     : chr [1:791956] \"2167\" \"4386\" \"1524\" \"252\" ...\n",
      " $ start_station_id  : num [1:791956] 199 44 15 123 173 98 98 211 150 268 ...\n",
      " $ start_station_name: chr [1:791956] \"Wabash Ave & Grand Ave\" \"State St & Randolph St\" \"Racine Ave & 18th St\" \"California Ave & Milwaukee Ave\" ...\n",
      " $ end_station_id    : num [1:791956] 84 624 644 176 35 49 49 142 148 141 ...\n",
      " $ end_station_name  : chr [1:791956] \"Milwaukee Ave & Grand Ave\" \"Dearborn St & Van Buren St (*)\" \"Western Ave & Fillmore St (*)\" \"Clark St & Elm St\" ...\n",
      " $ member_casual     : chr [1:791956] \"member\" \"member\" \"member\" \"member\" ...\n",
      " $ date              : Date[1:791956], format: \"2019-01-01\" \"2019-01-01\" ...\n",
      " $ month             : chr [1:791956] \"01\" \"01\" \"01\" \"01\" ...\n",
      " $ day               : chr [1:791956] \"01\" \"01\" \"01\" \"01\" ...\n",
      " $ year              : chr [1:791956] \"2019\" \"2019\" \"2019\" \"2019\" ...\n",
      " $ day_of_week       : chr [1:791956] \"Tuesday\" \"Tuesday\" \"Tuesday\" \"Tuesday\" ...\n"
     ]
    }
   ],
   "source": [
    "# Inspecting the structure of the columns\n",
    "str(all_trips)"
   ]
  },
  {
   "cell_type": "code",
   "execution_count": 14,
   "id": "3e1944e2",
   "metadata": {
    "execution": {
     "iopub.execute_input": "2024-04-26T18:21:00.929434Z",
     "iopub.status.busy": "2024-04-26T18:21:00.927733Z",
     "iopub.status.idle": "2024-04-26T18:21:05.144448Z",
     "shell.execute_reply": "2024-04-26T18:21:05.142424Z"
    },
    "papermill": {
     "duration": 4.239928,
     "end_time": "2024-04-26T18:21:05.148429",
     "exception": false,
     "start_time": "2024-04-26T18:21:00.908501",
     "status": "completed"
    },
    "tags": []
   },
   "outputs": [],
   "source": [
    "# Adding column \"ride_length\" calculation to all_trips (in seconds)\n",
    "\n",
    "all_trips$ride_length <- difftime(all_trips$ended_at,all_trips$started_at)"
   ]
  },
  {
   "cell_type": "code",
   "execution_count": 15,
   "id": "b274351a",
   "metadata": {
    "execution": {
     "iopub.execute_input": "2024-04-26T18:21:05.186213Z",
     "iopub.status.busy": "2024-04-26T18:21:05.184483Z",
     "iopub.status.idle": "2024-04-26T18:21:05.230512Z",
     "shell.execute_reply": "2024-04-26T18:21:05.227663Z"
    },
    "papermill": {
     "duration": 0.068451,
     "end_time": "2024-04-26T18:21:05.234099",
     "exception": false,
     "start_time": "2024-04-26T18:21:05.165648",
     "status": "completed"
    },
    "tags": []
   },
   "outputs": [
    {
     "name": "stdout",
     "output_type": "stream",
     "text": [
      "tibble [791,956 × 15] (S3: tbl_df/tbl/data.frame)\n",
      " $ ride_id           : chr [1:791956] \"21742443\" \"21742444\" \"21742445\" \"21742446\" ...\n",
      " $ started_at        : chr [1:791956] \"2019-01-01 0:04:37\" \"2019-01-01 0:08:13\" \"2019-01-01 0:13:23\" \"2019-01-01 0:13:45\" ...\n",
      " $ ended_at          : chr [1:791956] \"2019-01-01 0:11:07\" \"2019-01-01 0:15:34\" \"2019-01-01 0:27:12\" \"2019-01-01 0:43:28\" ...\n",
      " $ rideable_type     : chr [1:791956] \"2167\" \"4386\" \"1524\" \"252\" ...\n",
      " $ start_station_id  : num [1:791956] 199 44 15 123 173 98 98 211 150 268 ...\n",
      " $ start_station_name: chr [1:791956] \"Wabash Ave & Grand Ave\" \"State St & Randolph St\" \"Racine Ave & 18th St\" \"California Ave & Milwaukee Ave\" ...\n",
      " $ end_station_id    : num [1:791956] 84 624 644 176 35 49 49 142 148 141 ...\n",
      " $ end_station_name  : chr [1:791956] \"Milwaukee Ave & Grand Ave\" \"Dearborn St & Van Buren St (*)\" \"Western Ave & Fillmore St (*)\" \"Clark St & Elm St\" ...\n",
      " $ member_casual     : chr [1:791956] \"member\" \"member\" \"member\" \"member\" ...\n",
      " $ date              : Date[1:791956], format: \"2019-01-01\" \"2019-01-01\" ...\n",
      " $ month             : chr [1:791956] \"01\" \"01\" \"01\" \"01\" ...\n",
      " $ day               : chr [1:791956] \"01\" \"01\" \"01\" \"01\" ...\n",
      " $ year              : chr [1:791956] \"2019\" \"2019\" \"2019\" \"2019\" ...\n",
      " $ day_of_week       : chr [1:791956] \"Tuesday\" \"Tuesday\" \"Tuesday\" \"Tuesday\" ...\n",
      " $ ride_length       : 'difftime' num [1:791956] 390 441 829 1783 ...\n",
      "  ..- attr(*, \"units\")= chr \"secs\"\n"
     ]
    }
   ],
   "source": [
    "# Inspecting the structure of the columns\n",
    "str(all_trips)"
   ]
  },
  {
   "cell_type": "code",
   "execution_count": 16,
   "id": "ec7de4dc",
   "metadata": {
    "execution": {
     "iopub.execute_input": "2024-04-26T18:21:05.273640Z",
     "iopub.status.busy": "2024-04-26T18:21:05.271801Z",
     "iopub.status.idle": "2024-04-26T18:21:06.526809Z",
     "shell.execute_reply": "2024-04-26T18:21:06.524000Z"
    },
    "papermill": {
     "duration": 1.279437,
     "end_time": "2024-04-26T18:21:06.530532",
     "exception": false,
     "start_time": "2024-04-26T18:21:05.251095",
     "status": "completed"
    },
    "tags": []
   },
   "outputs": [
    {
     "data": {
      "text/html": [
       "FALSE"
      ],
      "text/latex": [
       "FALSE"
      ],
      "text/markdown": [
       "FALSE"
      ],
      "text/plain": [
       "[1] FALSE"
      ]
     },
     "metadata": {},
     "output_type": "display_data"
    },
    {
     "data": {
      "text/html": [
       "TRUE"
      ],
      "text/latex": [
       "TRUE"
      ],
      "text/markdown": [
       "TRUE"
      ],
      "text/plain": [
       "[1] TRUE"
      ]
     },
     "metadata": {},
     "output_type": "display_data"
    }
   ],
   "source": [
    "# Converting \"ride_length\" from Factor to numeric to run calculations on the data\n",
    "is.factor(all_trips$ride_length)\n",
    "all_trips$ride_length <- as.numeric(as.character(all_trips$ride_length))\n",
    "is.numeric(all_trips$ride_length)"
   ]
  },
  {
   "cell_type": "code",
   "execution_count": 17,
   "id": "e25c7a4e",
   "metadata": {
    "execution": {
     "iopub.execute_input": "2024-04-26T18:21:06.569061Z",
     "iopub.status.busy": "2024-04-26T18:21:06.567287Z",
     "iopub.status.idle": "2024-04-26T18:21:08.019441Z",
     "shell.execute_reply": "2024-04-26T18:21:08.016737Z"
    },
    "papermill": {
     "duration": 1.47551,
     "end_time": "2024-04-26T18:21:08.023155",
     "exception": false,
     "start_time": "2024-04-26T18:21:06.547645",
     "status": "completed"
    },
    "tags": []
   },
   "outputs": [
    {
     "data": {
      "text/html": [
       "<style>\n",
       ".dl-inline {width: auto; margin:0; padding: 0}\n",
       ".dl-inline>dt, .dl-inline>dd {float: none; width: auto; display: inline-block}\n",
       ".dl-inline>dt::after {content: \":\\0020\"; padding-right: .5ex}\n",
       ".dl-inline>dt:not(:first-of-type) {padding-left: .5ex}\n",
       "</style><dl class=dl-inline><dt>ride_id</dt><dd>FALSE</dd><dt>started_at</dt><dd>FALSE</dd><dt>ended_at</dt><dd>FALSE</dd><dt>rideable_type</dt><dd>FALSE</dd><dt>start_station_id</dt><dd>FALSE</dd><dt>start_station_name</dt><dd>FALSE</dd><dt>end_station_id</dt><dd>&lt;NA&gt;</dd><dt>end_station_name</dt><dd>&lt;NA&gt;</dd><dt>member_casual</dt><dd>FALSE</dd><dt>date</dt><dd>FALSE</dd><dt>month</dt><dd>FALSE</dd><dt>day</dt><dd>FALSE</dd><dt>year</dt><dd>FALSE</dd><dt>day_of_week</dt><dd>FALSE</dd><dt>ride_length</dt><dd>TRUE</dd></dl>\n"
      ],
      "text/latex": [
       "\\begin{description*}\n",
       "\\item[ride\\textbackslash{}\\_id] FALSE\n",
       "\\item[started\\textbackslash{}\\_at] FALSE\n",
       "\\item[ended\\textbackslash{}\\_at] FALSE\n",
       "\\item[rideable\\textbackslash{}\\_type] FALSE\n",
       "\\item[start\\textbackslash{}\\_station\\textbackslash{}\\_id] FALSE\n",
       "\\item[start\\textbackslash{}\\_station\\textbackslash{}\\_name] FALSE\n",
       "\\item[end\\textbackslash{}\\_station\\textbackslash{}\\_id] <NA>\n",
       "\\item[end\\textbackslash{}\\_station\\textbackslash{}\\_name] <NA>\n",
       "\\item[member\\textbackslash{}\\_casual] FALSE\n",
       "\\item[date] FALSE\n",
       "\\item[month] FALSE\n",
       "\\item[day] FALSE\n",
       "\\item[year] FALSE\n",
       "\\item[day\\textbackslash{}\\_of\\textbackslash{}\\_week] FALSE\n",
       "\\item[ride\\textbackslash{}\\_length] TRUE\n",
       "\\end{description*}\n"
      ],
      "text/markdown": [
       "ride_id\n",
       ":   FALSEstarted_at\n",
       ":   FALSEended_at\n",
       ":   FALSErideable_type\n",
       ":   FALSEstart_station_id\n",
       ":   FALSEstart_station_name\n",
       ":   FALSEend_station_id\n",
       ":   &lt;NA&gt;end_station_name\n",
       ":   &lt;NA&gt;member_casual\n",
       ":   FALSEdate\n",
       ":   FALSEmonth\n",
       ":   FALSEday\n",
       ":   FALSEyear\n",
       ":   FALSEday_of_week\n",
       ":   FALSEride_length\n",
       ":   TRUE\n",
       "\n"
      ],
      "text/plain": [
       "           ride_id         started_at           ended_at      rideable_type \n",
       "             FALSE              FALSE              FALSE              FALSE \n",
       "  start_station_id start_station_name     end_station_id   end_station_name \n",
       "             FALSE              FALSE                 NA                 NA \n",
       "     member_casual               date              month                day \n",
       "             FALSE              FALSE              FALSE              FALSE \n",
       "              year        day_of_week        ride_length \n",
       "             FALSE              FALSE               TRUE "
      ]
     },
     "metadata": {},
     "output_type": "display_data"
    }
   ],
   "source": [
    "#checking for negative values \n",
    "\n",
    "negative_columns <- sapply(all_trips, function(col) any(col < 0))\n",
    "negative_columns     "
   ]
  },
  {
   "cell_type": "code",
   "execution_count": 18,
   "id": "74d84b13",
   "metadata": {
    "execution": {
     "iopub.execute_input": "2024-04-26T18:21:08.065989Z",
     "iopub.status.busy": "2024-04-26T18:21:08.064114Z",
     "iopub.status.idle": "2024-04-26T18:21:08.845274Z",
     "shell.execute_reply": "2024-04-26T18:21:08.842865Z"
    },
    "papermill": {
     "duration": 0.808433,
     "end_time": "2024-04-26T18:21:08.849490",
     "exception": false,
     "start_time": "2024-04-26T18:21:08.041057",
     "status": "completed"
    },
    "tags": []
   },
   "outputs": [],
   "source": [
    "# Removing \"bad\" data by creating a new version of the dataframe (v2) since data is being removed\n",
    "\n",
    "all_trips_v2 <- all_trips[!( all_trips$ride_length<0),]"
   ]
  },
  {
   "cell_type": "code",
   "execution_count": 19,
   "id": "d25692d5",
   "metadata": {
    "execution": {
     "iopub.execute_input": "2024-04-26T18:21:08.891626Z",
     "iopub.status.busy": "2024-04-26T18:21:08.889842Z",
     "iopub.status.idle": "2024-04-26T18:21:10.196114Z",
     "shell.execute_reply": "2024-04-26T18:21:10.194186Z"
    },
    "papermill": {
     "duration": 1.33087,
     "end_time": "2024-04-26T18:21:10.199733",
     "exception": false,
     "start_time": "2024-04-26T18:21:08.868863",
     "status": "completed"
    },
    "tags": []
   },
   "outputs": [
    {
     "data": {
      "text/html": [
       "<style>\n",
       ".dl-inline {width: auto; margin:0; padding: 0}\n",
       ".dl-inline>dt, .dl-inline>dd {float: none; width: auto; display: inline-block}\n",
       ".dl-inline>dt::after {content: \":\\0020\"; padding-right: .5ex}\n",
       ".dl-inline>dt:not(:first-of-type) {padding-left: .5ex}\n",
       "</style><dl class=dl-inline><dt>ride_id</dt><dd>FALSE</dd><dt>started_at</dt><dd>FALSE</dd><dt>ended_at</dt><dd>FALSE</dd><dt>rideable_type</dt><dd>FALSE</dd><dt>start_station_id</dt><dd>FALSE</dd><dt>start_station_name</dt><dd>FALSE</dd><dt>end_station_id</dt><dd>FALSE</dd><dt>end_station_name</dt><dd>FALSE</dd><dt>member_casual</dt><dd>FALSE</dd><dt>date</dt><dd>FALSE</dd><dt>month</dt><dd>FALSE</dd><dt>day</dt><dd>FALSE</dd><dt>year</dt><dd>FALSE</dd><dt>day_of_week</dt><dd>FALSE</dd><dt>ride_length</dt><dd>FALSE</dd></dl>\n"
      ],
      "text/latex": [
       "\\begin{description*}\n",
       "\\item[ride\\textbackslash{}\\_id] FALSE\n",
       "\\item[started\\textbackslash{}\\_at] FALSE\n",
       "\\item[ended\\textbackslash{}\\_at] FALSE\n",
       "\\item[rideable\\textbackslash{}\\_type] FALSE\n",
       "\\item[start\\textbackslash{}\\_station\\textbackslash{}\\_id] FALSE\n",
       "\\item[start\\textbackslash{}\\_station\\textbackslash{}\\_name] FALSE\n",
       "\\item[end\\textbackslash{}\\_station\\textbackslash{}\\_id] FALSE\n",
       "\\item[end\\textbackslash{}\\_station\\textbackslash{}\\_name] FALSE\n",
       "\\item[member\\textbackslash{}\\_casual] FALSE\n",
       "\\item[date] FALSE\n",
       "\\item[month] FALSE\n",
       "\\item[day] FALSE\n",
       "\\item[year] FALSE\n",
       "\\item[day\\textbackslash{}\\_of\\textbackslash{}\\_week] FALSE\n",
       "\\item[ride\\textbackslash{}\\_length] FALSE\n",
       "\\end{description*}\n"
      ],
      "text/markdown": [
       "ride_id\n",
       ":   FALSEstarted_at\n",
       ":   FALSEended_at\n",
       ":   FALSErideable_type\n",
       ":   FALSEstart_station_id\n",
       ":   FALSEstart_station_name\n",
       ":   FALSEend_station_id\n",
       ":   FALSEend_station_name\n",
       ":   FALSEmember_casual\n",
       ":   FALSEdate\n",
       ":   FALSEmonth\n",
       ":   FALSEday\n",
       ":   FALSEyear\n",
       ":   FALSEday_of_week\n",
       ":   FALSEride_length\n",
       ":   FALSE\n",
       "\n"
      ],
      "text/plain": [
       "           ride_id         started_at           ended_at      rideable_type \n",
       "             FALSE              FALSE              FALSE              FALSE \n",
       "  start_station_id start_station_name     end_station_id   end_station_name \n",
       "             FALSE              FALSE              FALSE              FALSE \n",
       "     member_casual               date              month                day \n",
       "             FALSE              FALSE              FALSE              FALSE \n",
       "              year        day_of_week        ride_length \n",
       "             FALSE              FALSE              FALSE "
      ]
     },
     "metadata": {},
     "output_type": "display_data"
    }
   ],
   "source": [
    "#checking for negative values\n",
    "\n",
    "negative_columns2 <- sapply(all_trips_v2, function(col) any(col < 0))\n",
    "negative_columns2"
   ]
  },
  {
   "cell_type": "code",
   "execution_count": 20,
   "id": "9da68551",
   "metadata": {
    "execution": {
     "iopub.execute_input": "2024-04-26T18:21:10.242786Z",
     "iopub.status.busy": "2024-04-26T18:21:10.240752Z",
     "iopub.status.idle": "2024-04-26T18:21:23.177193Z",
     "shell.execute_reply": "2024-04-26T18:21:23.174654Z"
    },
    "papermill": {
     "duration": 12.962121,
     "end_time": "2024-04-26T18:21:23.181165",
     "exception": false,
     "start_time": "2024-04-26T18:21:10.219044",
     "status": "completed"
    },
    "tags": []
   },
   "outputs": [
    {
     "data": {
      "text/html": [
       "<table class=\"dataframe\">\n",
       "<caption>A tibble: 0 × 2</caption>\n",
       "<thead>\n",
       "\t<tr><th scope=col>ride_id</th><th scope=col>n</th></tr>\n",
       "\t<tr><th scope=col>&lt;chr&gt;</th><th scope=col>&lt;int&gt;</th></tr>\n",
       "</thead>\n",
       "<tbody>\n",
       "</tbody>\n",
       "</table>\n"
      ],
      "text/latex": [
       "A tibble: 0 × 2\n",
       "\\begin{tabular}{ll}\n",
       " ride\\_id & n\\\\\n",
       " <chr> & <int>\\\\\n",
       "\\hline\n",
       "\\end{tabular}\n"
      ],
      "text/markdown": [
       "\n",
       "A tibble: 0 × 2\n",
       "\n",
       "| ride_id &lt;chr&gt; | n &lt;int&gt; |\n",
       "|---|---|\n",
       "\n"
      ],
      "text/plain": [
       "     ride_id n"
      ]
     },
     "metadata": {},
     "output_type": "display_data"
    }
   ],
   "source": [
    "#check for unique ride id\n",
    "chck <- all_trips_v2 %>%\n",
    "  count(ride_id) %>%\n",
    "  filter(n > 1)\n",
    "\n",
    "chck  #if 0 rows, all ride id is unique"
   ]
  },
  {
   "cell_type": "markdown",
   "id": "fcab9a00",
   "metadata": {
    "papermill": {
     "duration": 0.018243,
     "end_time": "2024-04-26T18:21:23.217881",
     "exception": false,
     "start_time": "2024-04-26T18:21:23.199638",
     "status": "completed"
    },
    "tags": []
   },
   "source": [
    "# STEP 4: CONDUCT DESCRIPTIVE ANALYSIS"
   ]
  },
  {
   "cell_type": "code",
   "execution_count": 21,
   "id": "67f86336",
   "metadata": {
    "execution": {
     "iopub.execute_input": "2024-04-26T18:21:23.260821Z",
     "iopub.status.busy": "2024-04-26T18:21:23.258987Z",
     "iopub.status.idle": "2024-04-26T18:21:23.349768Z",
     "shell.execute_reply": "2024-04-26T18:21:23.347382Z"
    },
    "papermill": {
     "duration": 0.116005,
     "end_time": "2024-04-26T18:21:23.353428",
     "exception": false,
     "start_time": "2024-04-26T18:21:23.237423",
     "status": "completed"
    },
    "tags": []
   },
   "outputs": [
    {
     "data": {
      "text/plain": [
       "    Min.  1st Qu.   Median     Mean  3rd Qu.     Max. \n",
       "       0      328      537     1184      910 10632022 "
      ]
     },
     "metadata": {},
     "output_type": "display_data"
    }
   ],
   "source": [
    "#Descriptive analysis on ride_length (all figures in seconds)\n",
    "\n",
    "summary(all_trips_v2$ride_length)"
   ]
  },
  {
   "cell_type": "code",
   "execution_count": 22,
   "id": "6991c13f",
   "metadata": {
    "execution": {
     "iopub.execute_input": "2024-04-26T18:21:23.396235Z",
     "iopub.status.busy": "2024-04-26T18:21:23.394299Z",
     "iopub.status.idle": "2024-04-26T18:21:25.879611Z",
     "shell.execute_reply": "2024-04-26T18:21:25.876924Z"
    },
    "papermill": {
     "duration": 2.510557,
     "end_time": "2024-04-26T18:21:25.883167",
     "exception": false,
     "start_time": "2024-04-26T18:21:23.372610",
     "status": "completed"
    },
    "tags": []
   },
   "outputs": [
    {
     "data": {
      "text/html": [
       "<table class=\"dataframe\">\n",
       "<caption>A data.frame: 2 × 2</caption>\n",
       "<thead>\n",
       "\t<tr><th scope=col>all_trips_v2$member_casual</th><th scope=col>all_trips_v2$ride_length</th></tr>\n",
       "\t<tr><th scope=col>&lt;chr&gt;</th><th scope=col>&lt;dbl&gt;</th></tr>\n",
       "</thead>\n",
       "<tbody>\n",
       "\t<tr><td>casual</td><td>5098.8496</td></tr>\n",
       "\t<tr><td>member</td><td> 795.2513</td></tr>\n",
       "</tbody>\n",
       "</table>\n"
      ],
      "text/latex": [
       "A data.frame: 2 × 2\n",
       "\\begin{tabular}{ll}\n",
       " all\\_trips\\_v2\\$member\\_casual & all\\_trips\\_v2\\$ride\\_length\\\\\n",
       " <chr> & <dbl>\\\\\n",
       "\\hline\n",
       "\t casual & 5098.8496\\\\\n",
       "\t member &  795.2513\\\\\n",
       "\\end{tabular}\n"
      ],
      "text/markdown": [
       "\n",
       "A data.frame: 2 × 2\n",
       "\n",
       "| all_trips_v2$member_casual &lt;chr&gt; | all_trips_v2$ride_length &lt;dbl&gt; |\n",
       "|---|---|\n",
       "| casual | 5098.8496 |\n",
       "| member |  795.2513 |\n",
       "\n"
      ],
      "text/plain": [
       "  all_trips_v2$member_casual all_trips_v2$ride_length\n",
       "1 casual                     5098.8496               \n",
       "2 member                      795.2513               "
      ]
     },
     "metadata": {},
     "output_type": "display_data"
    },
    {
     "data": {
      "text/html": [
       "<table class=\"dataframe\">\n",
       "<caption>A data.frame: 2 × 2</caption>\n",
       "<thead>\n",
       "\t<tr><th scope=col>all_trips_v2$member_casual</th><th scope=col>all_trips_v2$ride_length</th></tr>\n",
       "\t<tr><th scope=col>&lt;chr&gt;</th><th scope=col>&lt;dbl&gt;</th></tr>\n",
       "</thead>\n",
       "<tbody>\n",
       "\t<tr><td>casual</td><td>1322</td></tr>\n",
       "\t<tr><td>member</td><td> 508</td></tr>\n",
       "</tbody>\n",
       "</table>\n"
      ],
      "text/latex": [
       "A data.frame: 2 × 2\n",
       "\\begin{tabular}{ll}\n",
       " all\\_trips\\_v2\\$member\\_casual & all\\_trips\\_v2\\$ride\\_length\\\\\n",
       " <chr> & <dbl>\\\\\n",
       "\\hline\n",
       "\t casual & 1322\\\\\n",
       "\t member &  508\\\\\n",
       "\\end{tabular}\n"
      ],
      "text/markdown": [
       "\n",
       "A data.frame: 2 × 2\n",
       "\n",
       "| all_trips_v2$member_casual &lt;chr&gt; | all_trips_v2$ride_length &lt;dbl&gt; |\n",
       "|---|---|\n",
       "| casual | 1322 |\n",
       "| member |  508 |\n",
       "\n"
      ],
      "text/plain": [
       "  all_trips_v2$member_casual all_trips_v2$ride_length\n",
       "1 casual                     1322                    \n",
       "2 member                      508                    "
      ]
     },
     "metadata": {},
     "output_type": "display_data"
    },
    {
     "data": {
      "text/html": [
       "<table class=\"dataframe\">\n",
       "<caption>A data.frame: 2 × 2</caption>\n",
       "<thead>\n",
       "\t<tr><th scope=col>all_trips_v2$member_casual</th><th scope=col>all_trips_v2$ride_length</th></tr>\n",
       "\t<tr><th scope=col>&lt;chr&gt;</th><th scope=col>&lt;dbl&gt;</th></tr>\n",
       "</thead>\n",
       "<tbody>\n",
       "\t<tr><td>casual</td><td>10632022</td></tr>\n",
       "\t<tr><td>member</td><td> 6096428</td></tr>\n",
       "</tbody>\n",
       "</table>\n"
      ],
      "text/latex": [
       "A data.frame: 2 × 2\n",
       "\\begin{tabular}{ll}\n",
       " all\\_trips\\_v2\\$member\\_casual & all\\_trips\\_v2\\$ride\\_length\\\\\n",
       " <chr> & <dbl>\\\\\n",
       "\\hline\n",
       "\t casual & 10632022\\\\\n",
       "\t member &  6096428\\\\\n",
       "\\end{tabular}\n"
      ],
      "text/markdown": [
       "\n",
       "A data.frame: 2 × 2\n",
       "\n",
       "| all_trips_v2$member_casual &lt;chr&gt; | all_trips_v2$ride_length &lt;dbl&gt; |\n",
       "|---|---|\n",
       "| casual | 10632022 |\n",
       "| member |  6096428 |\n",
       "\n"
      ],
      "text/plain": [
       "  all_trips_v2$member_casual all_trips_v2$ride_length\n",
       "1 casual                     10632022                \n",
       "2 member                      6096428                "
      ]
     },
     "metadata": {},
     "output_type": "display_data"
    },
    {
     "data": {
      "text/html": [
       "<table class=\"dataframe\">\n",
       "<caption>A data.frame: 2 × 2</caption>\n",
       "<thead>\n",
       "\t<tr><th scope=col>all_trips_v2$member_casual</th><th scope=col>all_trips_v2$ride_length</th></tr>\n",
       "\t<tr><th scope=col>&lt;chr&gt;</th><th scope=col>&lt;dbl&gt;</th></tr>\n",
       "</thead>\n",
       "<tbody>\n",
       "\t<tr><td>casual</td><td>0</td></tr>\n",
       "\t<tr><td>member</td><td>1</td></tr>\n",
       "</tbody>\n",
       "</table>\n"
      ],
      "text/latex": [
       "A data.frame: 2 × 2\n",
       "\\begin{tabular}{ll}\n",
       " all\\_trips\\_v2\\$member\\_casual & all\\_trips\\_v2\\$ride\\_length\\\\\n",
       " <chr> & <dbl>\\\\\n",
       "\\hline\n",
       "\t casual & 0\\\\\n",
       "\t member & 1\\\\\n",
       "\\end{tabular}\n"
      ],
      "text/markdown": [
       "\n",
       "A data.frame: 2 × 2\n",
       "\n",
       "| all_trips_v2$member_casual &lt;chr&gt; | all_trips_v2$ride_length &lt;dbl&gt; |\n",
       "|---|---|\n",
       "| casual | 0 |\n",
       "| member | 1 |\n",
       "\n"
      ],
      "text/plain": [
       "  all_trips_v2$member_casual all_trips_v2$ride_length\n",
       "1 casual                     0                       \n",
       "2 member                     1                       "
      ]
     },
     "metadata": {},
     "output_type": "display_data"
    }
   ],
   "source": [
    "# Comparing members and casual users\n",
    "aggregate(all_trips_v2$ride_length ~ all_trips_v2$member_casual, FUN = mean)\n",
    "aggregate(all_trips_v2$ride_length ~ all_trips_v2$member_casual, FUN = median)\n",
    "aggregate(all_trips_v2$ride_length ~ all_trips_v2$member_casual, FUN = max)\n",
    "aggregate(all_trips_v2$ride_length ~ all_trips_v2$member_casual, FUN = min)"
   ]
  },
  {
   "cell_type": "code",
   "execution_count": 23,
   "id": "f64f5c39",
   "metadata": {
    "execution": {
     "iopub.execute_input": "2024-04-26T18:21:25.926712Z",
     "iopub.status.busy": "2024-04-26T18:21:25.924868Z",
     "iopub.status.idle": "2024-04-26T18:21:26.687148Z",
     "shell.execute_reply": "2024-04-26T18:21:26.684127Z"
    },
    "papermill": {
     "duration": 0.787898,
     "end_time": "2024-04-26T18:21:26.690712",
     "exception": false,
     "start_time": "2024-04-26T18:21:25.902814",
     "status": "completed"
    },
    "tags": []
   },
   "outputs": [
    {
     "data": {
      "text/html": [
       "<table class=\"dataframe\">\n",
       "<caption>A data.frame: 14 × 3</caption>\n",
       "<thead>\n",
       "\t<tr><th scope=col>all_trips_v2$member_casual</th><th scope=col>all_trips_v2$day_of_week</th><th scope=col>all_trips_v2$ride_length</th></tr>\n",
       "\t<tr><th scope=col>&lt;chr&gt;</th><th scope=col>&lt;chr&gt;</th><th scope=col>&lt;dbl&gt;</th></tr>\n",
       "</thead>\n",
       "<tbody>\n",
       "\t<tr><td>casual</td><td>Friday   </td><td>5727.1506</td></tr>\n",
       "\t<tr><td>member</td><td>Friday   </td><td> 796.7338</td></tr>\n",
       "\t<tr><td>casual</td><td>Monday   </td><td>3950.2011</td></tr>\n",
       "\t<tr><td>member</td><td>Monday   </td><td> 822.3112</td></tr>\n",
       "\t<tr><td>casual</td><td>Saturday </td><td>4950.7708</td></tr>\n",
       "\t<tr><td>member</td><td>Saturday </td><td> 974.0730</td></tr>\n",
       "\t<tr><td>casual</td><td>Sunday   </td><td>5061.3044</td></tr>\n",
       "\t<tr><td>member</td><td>Sunday   </td><td> 972.9383</td></tr>\n",
       "\t<tr><td>casual</td><td>Thursday </td><td>7760.2442</td></tr>\n",
       "\t<tr><td>member</td><td>Thursday </td><td> 707.2093</td></tr>\n",
       "\t<tr><td>casual</td><td>Tuesday  </td><td>4176.9979</td></tr>\n",
       "\t<tr><td>member</td><td>Tuesday  </td><td> 769.4416</td></tr>\n",
       "\t<tr><td>casual</td><td>Wednesday</td><td>4110.2566</td></tr>\n",
       "\t<tr><td>member</td><td>Wednesday</td><td> 711.9781</td></tr>\n",
       "</tbody>\n",
       "</table>\n"
      ],
      "text/latex": [
       "A data.frame: 14 × 3\n",
       "\\begin{tabular}{lll}\n",
       " all\\_trips\\_v2\\$member\\_casual & all\\_trips\\_v2\\$day\\_of\\_week & all\\_trips\\_v2\\$ride\\_length\\\\\n",
       " <chr> & <chr> & <dbl>\\\\\n",
       "\\hline\n",
       "\t casual & Friday    & 5727.1506\\\\\n",
       "\t member & Friday    &  796.7338\\\\\n",
       "\t casual & Monday    & 3950.2011\\\\\n",
       "\t member & Monday    &  822.3112\\\\\n",
       "\t casual & Saturday  & 4950.7708\\\\\n",
       "\t member & Saturday  &  974.0730\\\\\n",
       "\t casual & Sunday    & 5061.3044\\\\\n",
       "\t member & Sunday    &  972.9383\\\\\n",
       "\t casual & Thursday  & 7760.2442\\\\\n",
       "\t member & Thursday  &  707.2093\\\\\n",
       "\t casual & Tuesday   & 4176.9979\\\\\n",
       "\t member & Tuesday   &  769.4416\\\\\n",
       "\t casual & Wednesday & 4110.2566\\\\\n",
       "\t member & Wednesday &  711.9781\\\\\n",
       "\\end{tabular}\n"
      ],
      "text/markdown": [
       "\n",
       "A data.frame: 14 × 3\n",
       "\n",
       "| all_trips_v2$member_casual &lt;chr&gt; | all_trips_v2$day_of_week &lt;chr&gt; | all_trips_v2$ride_length &lt;dbl&gt; |\n",
       "|---|---|---|\n",
       "| casual | Friday    | 5727.1506 |\n",
       "| member | Friday    |  796.7338 |\n",
       "| casual | Monday    | 3950.2011 |\n",
       "| member | Monday    |  822.3112 |\n",
       "| casual | Saturday  | 4950.7708 |\n",
       "| member | Saturday  |  974.0730 |\n",
       "| casual | Sunday    | 5061.3044 |\n",
       "| member | Sunday    |  972.9383 |\n",
       "| casual | Thursday  | 7760.2442 |\n",
       "| member | Thursday  |  707.2093 |\n",
       "| casual | Tuesday   | 4176.9979 |\n",
       "| member | Tuesday   |  769.4416 |\n",
       "| casual | Wednesday | 4110.2566 |\n",
       "| member | Wednesday |  711.9781 |\n",
       "\n"
      ],
      "text/plain": [
       "   all_trips_v2$member_casual all_trips_v2$day_of_week all_trips_v2$ride_length\n",
       "1  casual                     Friday                   5727.1506               \n",
       "2  member                     Friday                    796.7338               \n",
       "3  casual                     Monday                   3950.2011               \n",
       "4  member                     Monday                    822.3112               \n",
       "5  casual                     Saturday                 4950.7708               \n",
       "6  member                     Saturday                  974.0730               \n",
       "7  casual                     Sunday                   5061.3044               \n",
       "8  member                     Sunday                    972.9383               \n",
       "9  casual                     Thursday                 7760.2442               \n",
       "10 member                     Thursday                  707.2093               \n",
       "11 casual                     Tuesday                  4176.9979               \n",
       "12 member                     Tuesday                   769.4416               \n",
       "13 casual                     Wednesday                4110.2566               \n",
       "14 member                     Wednesday                 711.9781               "
      ]
     },
     "metadata": {},
     "output_type": "display_data"
    }
   ],
   "source": [
    "# Visualising the average ride time by each day for members vs casual users\n",
    "aggregate(all_trips_v2$ride_length ~ all_trips_v2$member_casual + all_trips_v2$day_of_week, FUN = mean)"
   ]
  },
  {
   "cell_type": "code",
   "execution_count": 24,
   "id": "cea4bd5f",
   "metadata": {
    "execution": {
     "iopub.execute_input": "2024-04-26T18:21:26.743152Z",
     "iopub.status.busy": "2024-04-26T18:21:26.741076Z",
     "iopub.status.idle": "2024-04-26T18:21:27.376028Z",
     "shell.execute_reply": "2024-04-26T18:21:27.373975Z"
    },
    "papermill": {
     "duration": 0.666424,
     "end_time": "2024-04-26T18:21:27.379964",
     "exception": false,
     "start_time": "2024-04-26T18:21:26.713540",
     "status": "completed"
    },
    "tags": []
   },
   "outputs": [
    {
     "data": {
      "text/html": [
       "<table class=\"dataframe\">\n",
       "<caption>A data.frame: 14 × 3</caption>\n",
       "<thead>\n",
       "\t<tr><th scope=col>all_trips_v2$member_casual</th><th scope=col>all_trips_v2$day_of_week</th><th scope=col>all_trips_v2$ride_length</th></tr>\n",
       "\t<tr><th scope=col>&lt;chr&gt;</th><th scope=col>&lt;ord&gt;</th><th scope=col>&lt;dbl&gt;</th></tr>\n",
       "</thead>\n",
       "<tbody>\n",
       "\t<tr><td>casual</td><td>Sunday   </td><td>5061.3044</td></tr>\n",
       "\t<tr><td>member</td><td>Sunday   </td><td> 972.9383</td></tr>\n",
       "\t<tr><td>casual</td><td>Monday   </td><td>3950.2011</td></tr>\n",
       "\t<tr><td>member</td><td>Monday   </td><td> 822.3112</td></tr>\n",
       "\t<tr><td>casual</td><td>Tuesday  </td><td>4176.9979</td></tr>\n",
       "\t<tr><td>member</td><td>Tuesday  </td><td> 769.4416</td></tr>\n",
       "\t<tr><td>casual</td><td>Wednesday</td><td>4110.2566</td></tr>\n",
       "\t<tr><td>member</td><td>Wednesday</td><td> 711.9781</td></tr>\n",
       "\t<tr><td>casual</td><td>Thursday </td><td>7760.2442</td></tr>\n",
       "\t<tr><td>member</td><td>Thursday </td><td> 707.2093</td></tr>\n",
       "\t<tr><td>casual</td><td>Friday   </td><td>5727.1506</td></tr>\n",
       "\t<tr><td>member</td><td>Friday   </td><td> 796.7338</td></tr>\n",
       "\t<tr><td>casual</td><td>Saturday </td><td>4950.7708</td></tr>\n",
       "\t<tr><td>member</td><td>Saturday </td><td> 974.0730</td></tr>\n",
       "</tbody>\n",
       "</table>\n"
      ],
      "text/latex": [
       "A data.frame: 14 × 3\n",
       "\\begin{tabular}{lll}\n",
       " all\\_trips\\_v2\\$member\\_casual & all\\_trips\\_v2\\$day\\_of\\_week & all\\_trips\\_v2\\$ride\\_length\\\\\n",
       " <chr> & <ord> & <dbl>\\\\\n",
       "\\hline\n",
       "\t casual & Sunday    & 5061.3044\\\\\n",
       "\t member & Sunday    &  972.9383\\\\\n",
       "\t casual & Monday    & 3950.2011\\\\\n",
       "\t member & Monday    &  822.3112\\\\\n",
       "\t casual & Tuesday   & 4176.9979\\\\\n",
       "\t member & Tuesday   &  769.4416\\\\\n",
       "\t casual & Wednesday & 4110.2566\\\\\n",
       "\t member & Wednesday &  711.9781\\\\\n",
       "\t casual & Thursday  & 7760.2442\\\\\n",
       "\t member & Thursday  &  707.2093\\\\\n",
       "\t casual & Friday    & 5727.1506\\\\\n",
       "\t member & Friday    &  796.7338\\\\\n",
       "\t casual & Saturday  & 4950.7708\\\\\n",
       "\t member & Saturday  &  974.0730\\\\\n",
       "\\end{tabular}\n"
      ],
      "text/markdown": [
       "\n",
       "A data.frame: 14 × 3\n",
       "\n",
       "| all_trips_v2$member_casual &lt;chr&gt; | all_trips_v2$day_of_week &lt;ord&gt; | all_trips_v2$ride_length &lt;dbl&gt; |\n",
       "|---|---|---|\n",
       "| casual | Sunday    | 5061.3044 |\n",
       "| member | Sunday    |  972.9383 |\n",
       "| casual | Monday    | 3950.2011 |\n",
       "| member | Monday    |  822.3112 |\n",
       "| casual | Tuesday   | 4176.9979 |\n",
       "| member | Tuesday   |  769.4416 |\n",
       "| casual | Wednesday | 4110.2566 |\n",
       "| member | Wednesday |  711.9781 |\n",
       "| casual | Thursday  | 7760.2442 |\n",
       "| member | Thursday  |  707.2093 |\n",
       "| casual | Friday    | 5727.1506 |\n",
       "| member | Friday    |  796.7338 |\n",
       "| casual | Saturday  | 4950.7708 |\n",
       "| member | Saturday  |  974.0730 |\n",
       "\n"
      ],
      "text/plain": [
       "   all_trips_v2$member_casual all_trips_v2$day_of_week all_trips_v2$ride_length\n",
       "1  casual                     Sunday                   5061.3044               \n",
       "2  member                     Sunday                    972.9383               \n",
       "3  casual                     Monday                   3950.2011               \n",
       "4  member                     Monday                    822.3112               \n",
       "5  casual                     Tuesday                  4176.9979               \n",
       "6  member                     Tuesday                   769.4416               \n",
       "7  casual                     Wednesday                4110.2566               \n",
       "8  member                     Wednesday                 711.9781               \n",
       "9  casual                     Thursday                 7760.2442               \n",
       "10 member                     Thursday                  707.2093               \n",
       "11 casual                     Friday                   5727.1506               \n",
       "12 member                     Friday                    796.7338               \n",
       "13 casual                     Saturday                 4950.7708               \n",
       "14 member                     Saturday                  974.0730               "
      ]
     },
     "metadata": {},
     "output_type": "display_data"
    }
   ],
   "source": [
    "#Ordering days of the week\n",
    "all_trips_v2$day_of_week <- ordered(all_trips_v2$day_of_week, levels=c(\"Sunday\", \"Monday\", \"Tuesday\", \"Wednesday\", \"Thursday\", \"Friday\", \"Saturday\"))\n",
    "aggregate(all_trips_v2$ride_length ~ all_trips_v2$member_casual + all_trips_v2$day_of_week, FUN = mean)"
   ]
  },
  {
   "cell_type": "code",
   "execution_count": 25,
   "id": "23372030",
   "metadata": {
    "execution": {
     "iopub.execute_input": "2024-04-26T18:21:27.424095Z",
     "iopub.status.busy": "2024-04-26T18:21:27.422215Z",
     "iopub.status.idle": "2024-04-26T18:21:29.910367Z",
     "shell.execute_reply": "2024-04-26T18:21:29.907671Z"
    },
    "papermill": {
     "duration": 2.514242,
     "end_time": "2024-04-26T18:21:29.914230",
     "exception": false,
     "start_time": "2024-04-26T18:21:27.399988",
     "status": "completed"
    },
    "tags": []
   },
   "outputs": [
    {
     "name": "stderr",
     "output_type": "stream",
     "text": [
      "\u001b[1m\u001b[22m`summarise()` has grouped output by 'member_casual'. You can override using the\n",
      "`.groups` argument.\n"
     ]
    },
    {
     "data": {
      "text/html": [
       "<table class=\"dataframe\">\n",
       "<caption>A grouped_df: 14 × 4</caption>\n",
       "<thead>\n",
       "\t<tr><th scope=col>member_casual</th><th scope=col>weekday</th><th scope=col>number_of_rides</th><th scope=col>average_duration</th></tr>\n",
       "\t<tr><th scope=col>&lt;chr&gt;</th><th scope=col>&lt;ord&gt;</th><th scope=col>&lt;int&gt;</th><th scope=col>&lt;dbl&gt;</th></tr>\n",
       "</thead>\n",
       "<tbody>\n",
       "\t<tr><td>casual</td><td>Sun</td><td> 18652</td><td>5061.3044</td></tr>\n",
       "\t<tr><td>casual</td><td>Mon</td><td>  6727</td><td>3950.2011</td></tr>\n",
       "\t<tr><td>casual</td><td>Tue</td><td>  7985</td><td>4176.9979</td></tr>\n",
       "\t<tr><td>casual</td><td>Wed</td><td>  8383</td><td>4110.2566</td></tr>\n",
       "\t<tr><td>casual</td><td>Thu</td><td>  7784</td><td>7760.2442</td></tr>\n",
       "\t<tr><td>casual</td><td>Fri</td><td>  8522</td><td>5727.1506</td></tr>\n",
       "\t<tr><td>casual</td><td>Sat</td><td> 13473</td><td>4950.7708</td></tr>\n",
       "\t<tr><td>member</td><td>Sun</td><td> 60197</td><td> 972.9383</td></tr>\n",
       "\t<tr><td>member</td><td>Mon</td><td>110430</td><td> 822.3112</td></tr>\n",
       "\t<tr><td>member</td><td>Tue</td><td>127974</td><td> 769.4416</td></tr>\n",
       "\t<tr><td>member</td><td>Wed</td><td>121903</td><td> 711.9781</td></tr>\n",
       "\t<tr><td>member</td><td>Thu</td><td>125228</td><td> 707.2093</td></tr>\n",
       "\t<tr><td>member</td><td>Fri</td><td>115168</td><td> 796.7338</td></tr>\n",
       "\t<tr><td>member</td><td>Sat</td><td> 59413</td><td> 974.0730</td></tr>\n",
       "</tbody>\n",
       "</table>\n"
      ],
      "text/latex": [
       "A grouped\\_df: 14 × 4\n",
       "\\begin{tabular}{llll}\n",
       " member\\_casual & weekday & number\\_of\\_rides & average\\_duration\\\\\n",
       " <chr> & <ord> & <int> & <dbl>\\\\\n",
       "\\hline\n",
       "\t casual & Sun &  18652 & 5061.3044\\\\\n",
       "\t casual & Mon &   6727 & 3950.2011\\\\\n",
       "\t casual & Tue &   7985 & 4176.9979\\\\\n",
       "\t casual & Wed &   8383 & 4110.2566\\\\\n",
       "\t casual & Thu &   7784 & 7760.2442\\\\\n",
       "\t casual & Fri &   8522 & 5727.1506\\\\\n",
       "\t casual & Sat &  13473 & 4950.7708\\\\\n",
       "\t member & Sun &  60197 &  972.9383\\\\\n",
       "\t member & Mon & 110430 &  822.3112\\\\\n",
       "\t member & Tue & 127974 &  769.4416\\\\\n",
       "\t member & Wed & 121903 &  711.9781\\\\\n",
       "\t member & Thu & 125228 &  707.2093\\\\\n",
       "\t member & Fri & 115168 &  796.7338\\\\\n",
       "\t member & Sat &  59413 &  974.0730\\\\\n",
       "\\end{tabular}\n"
      ],
      "text/markdown": [
       "\n",
       "A grouped_df: 14 × 4\n",
       "\n",
       "| member_casual &lt;chr&gt; | weekday &lt;ord&gt; | number_of_rides &lt;int&gt; | average_duration &lt;dbl&gt; |\n",
       "|---|---|---|---|\n",
       "| casual | Sun |  18652 | 5061.3044 |\n",
       "| casual | Mon |   6727 | 3950.2011 |\n",
       "| casual | Tue |   7985 | 4176.9979 |\n",
       "| casual | Wed |   8383 | 4110.2566 |\n",
       "| casual | Thu |   7784 | 7760.2442 |\n",
       "| casual | Fri |   8522 | 5727.1506 |\n",
       "| casual | Sat |  13473 | 4950.7708 |\n",
       "| member | Sun |  60197 |  972.9383 |\n",
       "| member | Mon | 110430 |  822.3112 |\n",
       "| member | Tue | 127974 |  769.4416 |\n",
       "| member | Wed | 121903 |  711.9781 |\n",
       "| member | Thu | 125228 |  707.2093 |\n",
       "| member | Fri | 115168 |  796.7338 |\n",
       "| member | Sat |  59413 |  974.0730 |\n",
       "\n"
      ],
      "text/plain": [
       "   member_casual weekday number_of_rides average_duration\n",
       "1  casual        Sun      18652          5061.3044       \n",
       "2  casual        Mon       6727          3950.2011       \n",
       "3  casual        Tue       7985          4176.9979       \n",
       "4  casual        Wed       8383          4110.2566       \n",
       "5  casual        Thu       7784          7760.2442       \n",
       "6  casual        Fri       8522          5727.1506       \n",
       "7  casual        Sat      13473          4950.7708       \n",
       "8  member        Sun      60197           972.9383       \n",
       "9  member        Mon     110430           822.3112       \n",
       "10 member        Tue     127974           769.4416       \n",
       "11 member        Wed     121903           711.9781       \n",
       "12 member        Thu     125228           707.2093       \n",
       "13 member        Fri     115168           796.7338       \n",
       "14 member        Sat      59413           974.0730       "
      ]
     },
     "metadata": {},
     "output_type": "display_data"
    }
   ],
   "source": [
    "# analyze ridership data by type and weekday\n",
    "all_trips_v2 %>% \n",
    "  mutate(weekday = wday(started_at, label = TRUE)) %>%  #creates weekday field using wday()\n",
    "  group_by(member_casual, weekday) %>%  #groups by usertype and weekday\n",
    "  summarise(number_of_rides = n()\t\t\t\t\t\t\t#calculates the number of rides and average duration \n",
    "            ,average_duration = mean(ride_length)) %>% \t\t# calculates the average duration\n",
    "  arrange(member_casual, weekday)"
   ]
  },
  {
   "cell_type": "code",
   "execution_count": 26,
   "id": "477a2da9",
   "metadata": {
    "execution": {
     "iopub.execute_input": "2024-04-26T18:21:29.962923Z",
     "iopub.status.busy": "2024-04-26T18:21:29.961031Z",
     "iopub.status.idle": "2024-04-26T18:21:32.745966Z",
     "shell.execute_reply": "2024-04-26T18:21:32.743808Z"
    },
    "papermill": {
     "duration": 2.812387,
     "end_time": "2024-04-26T18:21:32.748717",
     "exception": false,
     "start_time": "2024-04-26T18:21:29.936330",
     "status": "completed"
    },
    "tags": []
   },
   "outputs": [
    {
     "name": "stderr",
     "output_type": "stream",
     "text": [
      "\u001b[1m\u001b[22m`summarise()` has grouped output by 'member_casual'. You can override using the\n",
      "`.groups` argument.\n"
     ]
    },
    {
     "data": {
      "image/png": "[encoded data removed]"
     },
     "metadata": {
      "image/png": {
       "height": 420,
       "width": 420
      }
     },
     "output_type": "display_data"
    }
   ],
   "source": [
    "# visualizing the number of rides by rider type week wise\n",
    "all_trips_v2 %>% \n",
    "  mutate(weekday = wday(started_at, label = TRUE)) %>% \n",
    "  group_by(member_casual, weekday) %>% \n",
    "  summarise(number_of_rides = n()\n",
    "            ,average_duration = mean(ride_length)) %>% \n",
    "  arrange(member_casual, weekday)  %>% \n",
    "  ggplot(aes(x = weekday, y = number_of_rides, fill = member_casual)) +\n",
    "  geom_col(position = \"dodge\")+\n",
    "  labs(title = \"number of rides VS rider type\",subtitle=\"as per week days\")"
   ]
  },
  {
   "cell_type": "code",
   "execution_count": 27,
   "id": "eb357926",
   "metadata": {
    "execution": {
     "iopub.execute_input": "2024-04-26T18:21:32.835332Z",
     "iopub.status.busy": "2024-04-26T18:21:32.833380Z",
     "iopub.status.idle": "2024-04-26T18:21:33.047514Z",
     "shell.execute_reply": "2024-04-26T18:21:33.045412Z"
    },
    "papermill": {
     "duration": 0.241786,
     "end_time": "2024-04-26T18:21:33.050500",
     "exception": false,
     "start_time": "2024-04-26T18:21:32.808714",
     "status": "completed"
    },
    "tags": []
   },
   "outputs": [
    {
     "data": {
      "text/plain": [
       "\n",
       "    01     02     03 \n",
       "247156 235771 309029 "
      ]
     },
     "metadata": {},
     "output_type": "display_data"
    }
   ],
   "source": [
    "table(all_trips$month)\n",
    "# data present for only first 3 months"
   ]
  },
  {
   "cell_type": "code",
   "execution_count": 28,
   "id": "2d7f5530",
   "metadata": {
    "execution": {
     "iopub.execute_input": "2024-04-26T18:21:33.097821Z",
     "iopub.status.busy": "2024-04-26T18:21:33.096029Z",
     "iopub.status.idle": "2024-04-26T18:21:35.710367Z",
     "shell.execute_reply": "2024-04-26T18:21:35.707167Z"
    },
    "papermill": {
     "duration": 2.642332,
     "end_time": "2024-04-26T18:21:35.714229",
     "exception": false,
     "start_time": "2024-04-26T18:21:33.071897",
     "status": "completed"
    },
    "tags": []
   },
   "outputs": [
    {
     "name": "stderr",
     "output_type": "stream",
     "text": [
      "\u001b[1m\u001b[22m`summarise()` has grouped output by 'member_casual'. You can override using the\n",
      "`.groups` argument.\n"
     ]
    },
    {
     "data": {
      "image/png": "[encoded data removed]"
     },
     "metadata": {
      "image/png": {
       "height": 420,
       "width": 420
      }
     },
     "output_type": "display_data"
    }
   ],
   "source": [
    "# visualizing the number of rides by rider type month wise\n",
    "all_trips_v2 %>% \n",
    "  mutate(month = month(started_at, label = TRUE)) %>% \n",
    "  group_by(member_casual, month) %>% \n",
    "  summarise(number_of_rides = n()\n",
    "            ,average_duration = mean(ride_length)) %>% \n",
    "  arrange(member_casual, month)  %>% \n",
    "  ggplot(aes(x = month, y = number_of_rides, fill = member_casual)) +\n",
    "  geom_col(position = \"dodge\")+\n",
    "  labs(title = \"number of rides VS rider type\",subtitle=\"as per month days\")"
   ]
  },
  {
   "cell_type": "code",
   "execution_count": 29,
   "id": "20417e3e",
   "metadata": {
    "execution": {
     "iopub.execute_input": "2024-04-26T18:21:35.763125Z",
     "iopub.status.busy": "2024-04-26T18:21:35.761151Z",
     "iopub.status.idle": "2024-04-26T18:21:38.366700Z",
     "shell.execute_reply": "2024-04-26T18:21:38.364699Z"
    },
    "papermill": {
     "duration": 2.633426,
     "end_time": "2024-04-26T18:21:38.369828",
     "exception": false,
     "start_time": "2024-04-26T18:21:35.736402",
     "status": "completed"
    },
    "tags": []
   },
   "outputs": [
    {
     "name": "stderr",
     "output_type": "stream",
     "text": [
      "\u001b[1m\u001b[22m`summarise()` has grouped output by 'member_casual'. You can override using the\n",
      "`.groups` argument.\n"
     ]
    },
    {
     "data": {
      "image/png": "[encoded data removed]"
     },
     "metadata": {
      "image/png": {
       "height": 420,
       "width": 420
      }
     },
     "output_type": "display_data"
    }
   ],
   "source": [
    "# visualizing for average duration by rider type week wise\n",
    "all_trips_v2 %>% \n",
    "  mutate(weekday = wday(started_at, label = TRUE)) %>% \n",
    "  group_by(member_casual, weekday) %>% \n",
    "  summarise(number_of_rides = n()\n",
    "            ,average_duration = mean(ride_length)) %>% \n",
    "  arrange(member_casual, weekday)  %>% \n",
    "  ggplot(aes(x = weekday, y = average_duration, fill = member_casual)) +\n",
    "  geom_col(position = \"dodge\")+\n",
    "  labs(title = \"average ride duration VS rider type\", subtitle=\"as per week days\")\n",
    "  "
   ]
  },
  {
   "cell_type": "code",
   "execution_count": 30,
   "id": "1371abf1",
   "metadata": {
    "execution": {
     "iopub.execute_input": "2024-04-26T18:21:38.422772Z",
     "iopub.status.busy": "2024-04-26T18:21:38.419212Z",
     "iopub.status.idle": "2024-04-26T18:21:41.016851Z",
     "shell.execute_reply": "2024-04-26T18:21:41.014697Z"
    },
    "papermill": {
     "duration": 2.626859,
     "end_time": "2024-04-26T18:21:41.019815",
     "exception": false,
     "start_time": "2024-04-26T18:21:38.392956",
     "status": "completed"
    },
    "tags": []
   },
   "outputs": [
    {
     "name": "stderr",
     "output_type": "stream",
     "text": [
      "\u001b[1m\u001b[22m`summarise()` has grouped output by 'member_casual'. You can override using the\n",
      "`.groups` argument.\n"
     ]
    },
    {
     "data": {
      "image/png": "[encoded data removed]"
     },
     "metadata": {
      "image/png": {
       "height": 420,
       "width": 420
      }
     },
     "output_type": "display_data"
    }
   ],
   "source": [
    "# visualization for average duration by rider type month wise\n",
    "all_trips_v2 %>% \n",
    "  mutate(month = month(started_at, label = TRUE)) %>% \n",
    "  group_by(member_casual, month) %>% \n",
    "  summarise(number_of_rides = n()\n",
    "            ,average_duration = mean(ride_length)) %>% \n",
    "  arrange(member_casual, month)  %>% \n",
    "  ggplot(aes(x = month, y = average_duration, fill = member_casual)) +\n",
    "  geom_col(position = \"dodge\")+\n",
    "  labs(title = \"average ride duration VS rider type\", subtitle=\"as per month days\")"
   ]
  },
  {
   "cell_type": "markdown",
   "id": "0195ad55",
   "metadata": {
    "papermill": {
     "duration": 0.024696,
     "end_time": "2024-04-26T18:21:41.069170",
     "exception": false,
     "start_time": "2024-04-26T18:21:41.044474",
     "status": "completed"
    },
    "tags": []
   },
   "source": [
    "STEP 5: EXPORT SUMMARY FILE FOR FURTHER ANALYSIS"
   ]
  },
  {
   "cell_type": "code",
   "execution_count": 31,
   "id": "544d4a77",
   "metadata": {
    "execution": {
     "iopub.execute_input": "2024-04-26T18:21:41.121976Z",
     "iopub.status.busy": "2024-04-26T18:21:41.120053Z",
     "iopub.status.idle": "2024-04-26T18:21:41.847165Z",
     "shell.execute_reply": "2024-04-26T18:21:41.845061Z"
    },
    "papermill": {
     "duration": 0.756545,
     "end_time": "2024-04-26T18:21:41.850220",
     "exception": false,
     "start_time": "2024-04-26T18:21:41.093675",
     "status": "completed"
    },
    "tags": []
   },
   "outputs": [],
   "source": [
    "counts <- aggregate(all_trips_v2$ride_length ~ all_trips_v2$member_casual + all_trips_v2$day_of_week, FUN = mean)\n",
    "write.csv(counts , \"Cyclistic-Bikeshare-case-study\\\\avg_ride_length.csv\")"
   ]
  },
  {
   "cell_type": "markdown",
   "id": "f3d28549",
   "metadata": {
    "papermill": {
     "duration": 0.024767,
     "end_time": "2024-04-26T18:21:41.900486",
     "exception": false,
     "start_time": "2024-04-26T18:21:41.875719",
     "status": "completed"
    },
    "tags": []
   },
   "source": [
    "# Conclusion\n",
    "\n",
    "* The average ride duration of casual users is more than average ride duration of members. While the average rides for members is more than casual users. \n",
    "\n",
    "* The number of rides taken by members decreases on weekend(Saturday, Sunday) while there is increase in number of rides take by casual users on weekend(Saturday, Sunday).\n",
    "\n",
    "It can be inferred that casual users may be tourists or travel for leisure while members book bikes for transportation/commute.\n",
    "\n",
    "# Recommendation\n",
    "\n",
    "* Travel cost for single-ride passes can be increased on weekends. This will make membership pricing plans seem more feasible.\n",
    "* Membership plans can include incentive like early booking options or other perks for long trip duration as casual riders tend to ride for longer duration."
   ]
  }
 ],
 "metadata": {
  "kaggle": {
   "accelerator": "none",
   "dataSources": [
    {
     "datasetId": 4885891,
     "sourceId": 8237196,
     "sourceType": "datasetVersion"
    }
   ],
   "dockerImageVersionId": 30618,
   "isGpuEnabled": false,
   "isInternetEnabled": false,
   "language": "r",
   "sourceType": "notebook"
  },
  "kernelspec": {
   "display_name": "R",
   "language": "R",
   "name": "ir"
  },
  "language_info": {
   "codemirror_mode": "r",
   "file_extension": ".r",
   "mimetype": "text/x-r-source",
   "name": "R",
   "pygments_lexer": "r",
   "version": "4.0.5"
  },
  "papermill": {
   "default_parameters": {},
   "duration": 62.189676,
   "end_time": "2024-04-26T18:21:42.149724",
   "environment_variables": {},
   "exception": null,
   "input_path": "__notebook__.ipynb",
   "output_path": "__notebook__.ipynb",
   "parameters": {},
   "start_time": "2024-04-26T18:20:39.960048",
   "version": "2.5.0"
  }
 },
 "nbformat": 4,
 "nbformat_minor": 5
}
